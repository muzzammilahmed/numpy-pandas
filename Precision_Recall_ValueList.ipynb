{
 "cells": [
  {
   "cell_type": "markdown",
   "metadata": {},
   "source": [
    "# Task: Datastream"
   ]
  },
  {
   "cell_type": "markdown",
   "metadata": {},
   "source": [
    "HERE Rdoc means relevant document while others are not relevant."
   ]
  },
  {
   "cell_type": "code",
   "execution_count": 124,
   "metadata": {},
   "outputs": [
    {
     "name": "stdout",
     "output_type": "stream",
     "text": [
      "Total size of datastream=  110\n",
      "['Rdoc1', 'doc2', 'doc3', 'doc4', 'doc5', 'Rdoc6', 'doc7', 'doc8', 'doc9', 'doc10', 'Rdoc11', 'doc12', 'doc13', 'doc14', 'doc15', 'Rdoc16', 'doc17', 'doc18', 'doc19', 'doc20', 'Rdoc21', 'doc22', 'doc23', 'doc24', 'doc25', 'Rdoc26', 'doc27', 'doc28', 'doc29', 'doc30', 'Rdoc31', 'doc32', 'doc33', 'doc34', 'doc35', 'Rdoc36', 'doc37', 'doc38', 'doc39', 'doc40', 'Rdoc41', 'doc42', 'doc43', 'doc44', 'doc45', 'Rdoc46', 'doc47', 'doc48', 'doc49', 'doc50']\n"
     ]
    }
   ],
   "source": [
    "import pandas as pd\n",
    "import numpy as np\n",
    "gold_standard=['Rdoc1','doc2','doc3','doc4','doc5','Rdoc6','doc7','doc8','doc9','doc10',\n",
    "'Rdoc11','doc12','doc13','doc14','doc15','Rdoc16','doc17','doc18','doc19','doc20',\n",
    "'Rdoc21','doc22','doc23','doc24','doc25','Rdoc26','doc27','doc28','doc29','doc30',\n",
    "'Rdoc31','doc32','doc33','doc34','doc35','Rdoc36','doc37','doc38','doc39','doc40',\n",
    "'Rdoc41','doc42','doc43','doc44','doc45','Rdoc46','doc47','doc48','doc49','doc50',\n",
    "'Rdoc51','doc52','doc53','doc54','doc55','Rdoc56','doc57','doc58','doc59','doc60',\n",
    "'Rdoc61','doc62','doc63','doc64','doc65','Rdoc66','doc67','doc68','doc69','doc70',\n",
    "'Rdoc71','doc72','doc73','doc74','doc75','Rdoc76','doc77','doc78','doc79','doc80',\n",
    "'Rdoc81','doc82','doc83','doc84','doc85','Rdoc86','doc87','doc88','doc89','doc90',\n",
    "'Rdoc91','doc92','doc93','doc94','doc95','Rdoc96','doc97','doc98','doc99','doc100',\n",
    "'Rdoc101','doc102','doc103','doc104','doc105','Rdoc106','doc107','doc108','doc109','doc110',]\n",
    "n=50\n",
    "size = len(gold_standard)\n",
    "print('Total size of datastream= ',size)\n",
    "Total_relevant =15\n",
    "Retrieved_List = gold_standard[0:n]\n",
    "print(Retrieved_List)\n"
   ]
  },
  {
   "cell_type": "markdown",
   "metadata": {},
   "source": [
    "# Task: Precision Value List"
   ]
  },
  {
   "cell_type": "code",
   "execution_count": 105,
   "metadata": {},
   "outputs": [
    {
     "name": "stdout",
     "output_type": "stream",
     "text": [
      "Rdoc1\n",
      "doc2\n",
      "doc3\n",
      "doc4\n",
      "doc5\n",
      "Rdoc6\n",
      "doc7\n",
      "doc8\n",
      "doc9\n",
      "doc10\n",
      "[1.0, 0.5, 0.33, 0.25, 0.2, 0.33, 0.29, 0.25, 0.22, 0.2]\n"
     ]
    }
   ],
   "source": [
    "TP2=0\n",
    "n1=10\n",
    "n2=0\n",
    "Precision_List=[]\n",
    "for i in Retrieved_List[0:n1]:\n",
    "    print(i)\n",
    "    n2+=1\n",
    "    if 'R' in i:\n",
    "        TP2 +=1\n",
    "    precision=round(TP2/n2,2)\n",
    "    Precision_List.append(precision)\n",
    "print(Precision_List)"
   ]
  },
  {
   "cell_type": "markdown",
   "metadata": {},
   "source": [
    "# Task: Sum of Precision Values"
   ]
  },
  {
   "cell_type": "code",
   "execution_count": 162,
   "metadata": {},
   "outputs": [
    {
     "name": "stdout",
     "output_type": "stream",
     "text": [
      "[1.0, 0.5, 0.33, 0.25, 0.2, 0.33, 0.29, 0.25, 0.22, 0.2, 0.27, 0.25, 0.23, 0.21, 0.2, 0.25, 0.24, 0.22, 0.21, 0.2, 0.24, 0.23, 0.22, 0.21, 0.2, 0.23, 0.22, 0.21, 0.21, 0.2, 0.23, 0.22, 0.21, 0.21, 0.2, 0.22, 0.22, 0.21, 0.21, 0.2, 0.22, 0.21, 0.21, 0.2, 0.2, 0.22, 0.21, 0.21, 0.2, 0.2]\n",
      "Sum of Precision Values =  12.23\n"
     ]
    }
   ],
   "source": [
    "TP3=0\n",
    "n3=50\n",
    "n4=0\n",
    "sum=0\n",
    "Precision_List2=[]\n",
    "for i in Retrieved_List[0:n3]:\n",
    "    n4+=1\n",
    "    if 'R' in i:\n",
    "        TP3 +=1\n",
    "    precision=round(TP3/n4,2)\n",
    "    sum+=precision\n",
    "    Precision_List2.append(precision)\n",
    "print(Precision_List2)\n",
    "print('Sum of Precision Values = ',round(sum,2))"
   ]
  },
  {
   "cell_type": "markdown",
   "metadata": {},
   "source": [
    "# Task: Recall Value List"
   ]
  },
  {
   "cell_type": "code",
   "execution_count": 146,
   "metadata": {},
   "outputs": [
    {
     "name": "stdout",
     "output_type": "stream",
     "text": [
      "Rdoc41\n",
      "doc42\n",
      "doc43\n",
      "doc44\n",
      "doc45\n",
      "Rdoc46\n",
      "doc47\n",
      "doc48\n",
      "doc49\n",
      "doc50\n",
      "2   8\n",
      "[0.07, 0.07, 0.07, 0.07, 0.07, 0.13, 0.13, 0.13, 0.13, 0.13]\n"
     ]
    }
   ],
   "source": [
    "Recall_List=[]\n",
    "N=10\n",
    "TPr=0\n",
    "FPr=0\n",
    "FNr=0\n",
    "TNr=0\n",
    "\n",
    "for i in Retrieved_List[-N:]:\n",
    "    print(i)\n",
    "    if 'R' in i:\n",
    "        TPr +=1\n",
    "    else:\n",
    "        FPr +=1\n",
    "    recall= round(TPr/(TPr+(Total_relevant-TPr)),2)  \n",
    "    Recall_List.append(recall)\n",
    "print(TPr, ' ', FPr)\n",
    "print(Recall_List)\n"
   ]
  },
  {
   "cell_type": "markdown",
   "metadata": {},
   "source": [
    "# Task: Sum Of Recall Values"
   ]
  },
  {
   "cell_type": "code",
   "execution_count": 165,
   "metadata": {},
   "outputs": [
    {
     "name": "stdout",
     "output_type": "stream",
     "text": [
      "Rdoc1\n",
      "doc2\n",
      "doc3\n",
      "doc4\n",
      "doc5\n",
      "Rdoc6\n",
      "doc7\n",
      "doc8\n",
      "doc9\n",
      "doc10\n",
      "Rdoc11\n",
      "doc12\n",
      "doc13\n",
      "doc14\n",
      "doc15\n",
      "Rdoc16\n",
      "doc17\n",
      "doc18\n",
      "doc19\n",
      "doc20\n",
      "Rdoc21\n",
      "doc22\n",
      "doc23\n",
      "doc24\n",
      "doc25\n",
      "Rdoc26\n",
      "doc27\n",
      "doc28\n",
      "doc29\n",
      "doc30\n",
      "Rdoc31\n",
      "doc32\n",
      "doc33\n",
      "doc34\n",
      "doc35\n",
      "Rdoc36\n",
      "doc37\n",
      "doc38\n",
      "doc39\n",
      "doc40\n",
      "Rdoc41\n",
      "doc42\n",
      "doc43\n",
      "doc44\n",
      "doc45\n",
      "Rdoc46\n",
      "doc47\n",
      "doc48\n",
      "doc49\n",
      "doc50\n",
      "10   40\n",
      "[0.07, 0.07, 0.07, 0.07, 0.07, 0.13, 0.13, 0.13, 0.13, 0.13, 0.2, 0.2, 0.2, 0.2, 0.2, 0.27, 0.27, 0.27, 0.27, 0.27, 0.33, 0.33, 0.33, 0.33, 0.33, 0.4, 0.4, 0.4, 0.4, 0.4, 0.47, 0.47, 0.47, 0.47, 0.47, 0.53, 0.53, 0.53, 0.53, 0.53, 0.6, 0.6, 0.6, 0.6, 0.6, 0.67, 0.67, 0.67, 0.67, 0.67]\n",
      "Sum of recall Values =  18.35\n"
     ]
    }
   ],
   "source": [
    "Recall_List2=[]\n",
    "N=50\n",
    "TPr=0\n",
    "FPr=0\n",
    "FNr=0\n",
    "TNr=0\n",
    "sum=0\n",
    "for i in Retrieved_List[0:N]:\n",
    "    print(i)\n",
    "    if 'R' in i:\n",
    "        TPr +=1\n",
    "    else:\n",
    "        FPr +=1\n",
    "    recall= round(TPr/(TPr+(Total_relevant-TPr)),2)  \n",
    "    sum+=recall\n",
    "    Recall_List2.append(recall)\n",
    "print(TPr, ' ', FPr)\n",
    "print(Recall_List2)\n",
    "print('Sum of recall Values = ',round(sum,2))\n"
   ]
  },
  {
   "cell_type": "code",
   "execution_count": 172,
   "metadata": {},
   "outputs": [
    {
     "data": {
      "image/png": "[encoded data removed]",
      "text/plain": [
       "<Figure size 432x288 with 1 Axes>"
      ]
     },
     "metadata": {
      "needs_background": "light"
     },
     "output_type": "display_data"
    },
    {
     "name": "stdout",
     "output_type": "stream",
     "text": [
      "Retrieved and relevant (TP)=  10\n",
      "Retrieved but not relevant (FP)=  40\n",
      "Not retrieved but relevant (FN)=  5\n",
      "not retrieved and not relevant (TN)=  55\n",
      "Recall =  0.67\n",
      "Precision =  0.2\n",
      "F-1 Score =  0.31\n"
     ]
    }
   ],
   "source": [
    "from matplotlib import pyplot as plt\n",
    "plt.bar(range(50),Precision_List2)\n",
    "plt.show()\n",
    "\n",
    "\n",
    "TP=0\n",
    "FP=0\n",
    "\n",
    "for i in Retrieved_List:\n",
    "    if 'R' in i:\n",
    "        TP +=1\n",
    "    else:\n",
    "        FP +=1\n",
    "\n",
    "FN=Total_relevant - TP\n",
    "TN=size - TP - FP - FN\n",
    "print('Retrieved and relevant (TP)= ', TP)\n",
    "print('Retrieved but not relevant (FP)= ', FP)  \n",
    "print('Not retrieved but relevant (FN)= ', FN)\n",
    "print('not retrieved and not relevant (TN)= ', TN) \n",
    "\n",
    "recall=round(TP/(TP+FN),2)\n",
    "precision=round(TP/(TP+FP),2)\n",
    "Fscore=2*((recall*precision)/(recall+precision))\n",
    "print('Recall = ', recall)\n",
    "print('Precision = ', precision)\n",
    "print('F-1 Score = ', round(Fscore,2))"
   ]
  },
  {
   "cell_type": "code",
   "execution_count": 173,
   "metadata": {},
   "outputs": [
    {
     "data": {
      "image/png": "[encoded data removed]",
      "text/plain": [
       "<Figure size 432x288 with 1 Axes>"
      ]
     },
     "metadata": {
      "needs_background": "light"
     },
     "output_type": "display_data"
    }
   ],
   "source": [
    "plt.bar(range(50),Recall_List2)\n",
    "plt.show()"
   ]
  },
  {
   "cell_type": "code",
   "execution_count": 9,
   "metadata": {},
   "outputs": [
    {
     "name": "stdout",
     "output_type": "stream",
     "text": [
      "0.2\n"
     ]
    }
   ],
   "source": [
    "import math\n",
    "print(math.log2(2)*(1/5))"
   ]
  }
 ],
 "metadata": {
  "kernelspec": {
   "display_name": "Python 3",
   "language": "python",
   "name": "python3"
  },
  "language_info": {
   "codemirror_mode": {
    "name": "ipython",
    "version": 3
   },
   "file_extension": ".py",
   "mimetype": "text/x-python",
   "name": "python",
   "nbconvert_exporter": "python",
   "pygments_lexer": "ipython3",
   "version": "3.8.5"
  }
 },
 "nbformat": 4,
 "nbformat_minor": 4
}
