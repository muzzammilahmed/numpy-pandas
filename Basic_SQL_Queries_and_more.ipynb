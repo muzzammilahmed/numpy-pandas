{
 "cells": [
  {
   "cell_type": "code",
   "execution_count": 42,
   "metadata": {},
   "outputs": [
    {
     "data": {
      "text/html": [
       "<div>\n",
       "<style scoped>\n",
       "    .dataframe tbody tr th:only-of-type {\n",
       "        vertical-align: middle;\n",
       "    }\n",
       "\n",
       "    .dataframe tbody tr th {\n",
       "        vertical-align: top;\n",
       "    }\n",
       "\n",
       "    .dataframe thead th {\n",
       "        text-align: right;\n",
       "    }\n",
       "</style>\n",
       "<table border=\"1\" class=\"dataframe\">\n",
       "  <thead>\n",
       "    <tr style=\"text-align: right;\">\n",
       "      <th></th>\n",
       "      <th>last</th>\n",
       "      <th>first</th>\n",
       "      <th>gender</th>\n",
       "      <th>age</th>\n",
       "      <th>class</th>\n",
       "      <th>fare</th>\n",
       "      <th>embarked</th>\n",
       "      <th>survived</th>\n",
       "    </tr>\n",
       "  </thead>\n",
       "  <tbody>\n",
       "    <tr>\n",
       "      <th>0</th>\n",
       "      <td>Braund</td>\n",
       "      <td>Mr. Owen Harris</td>\n",
       "      <td>M</td>\n",
       "      <td>22.0</td>\n",
       "      <td>3</td>\n",
       "      <td>7.2500</td>\n",
       "      <td>Southampton</td>\n",
       "      <td>no</td>\n",
       "    </tr>\n",
       "    <tr>\n",
       "      <th>1</th>\n",
       "      <td>Cumings</td>\n",
       "      <td>Mrs. John Bradley (Florence Briggs Thayer)</td>\n",
       "      <td>F</td>\n",
       "      <td>38.0</td>\n",
       "      <td>1</td>\n",
       "      <td>71.2833</td>\n",
       "      <td>Cherbourg</td>\n",
       "      <td>yes</td>\n",
       "    </tr>\n",
       "    <tr>\n",
       "      <th>2</th>\n",
       "      <td>Heikkinen</td>\n",
       "      <td>Miss Laina</td>\n",
       "      <td>F</td>\n",
       "      <td>26.0</td>\n",
       "      <td>3</td>\n",
       "      <td>7.9250</td>\n",
       "      <td>Southampton</td>\n",
       "      <td>yes</td>\n",
       "    </tr>\n",
       "    <tr>\n",
       "      <th>3</th>\n",
       "      <td>Futrelle</td>\n",
       "      <td>Mrs. Jacques Heath (Lily May Peel)</td>\n",
       "      <td>F</td>\n",
       "      <td>35.0</td>\n",
       "      <td>1</td>\n",
       "      <td>53.1000</td>\n",
       "      <td>Southampton</td>\n",
       "      <td>yes</td>\n",
       "    </tr>\n",
       "    <tr>\n",
       "      <th>4</th>\n",
       "      <td>Allen</td>\n",
       "      <td>Mr. William Henry</td>\n",
       "      <td>M</td>\n",
       "      <td>35.0</td>\n",
       "      <td>3</td>\n",
       "      <td>8.0500</td>\n",
       "      <td>Southampton</td>\n",
       "      <td>no</td>\n",
       "    </tr>\n",
       "    <tr>\n",
       "      <th>...</th>\n",
       "      <td>...</td>\n",
       "      <td>...</td>\n",
       "      <td>...</td>\n",
       "      <td>...</td>\n",
       "      <td>...</td>\n",
       "      <td>...</td>\n",
       "      <td>...</td>\n",
       "      <td>...</td>\n",
       "    </tr>\n",
       "    <tr>\n",
       "      <th>886</th>\n",
       "      <td>Montvila</td>\n",
       "      <td>Rev. Juozas</td>\n",
       "      <td>M</td>\n",
       "      <td>27.0</td>\n",
       "      <td>2</td>\n",
       "      <td>13.0000</td>\n",
       "      <td>Southampton</td>\n",
       "      <td>no</td>\n",
       "    </tr>\n",
       "    <tr>\n",
       "      <th>887</th>\n",
       "      <td>Graham</td>\n",
       "      <td>Miss Margaret Edith</td>\n",
       "      <td>F</td>\n",
       "      <td>19.0</td>\n",
       "      <td>1</td>\n",
       "      <td>30.0000</td>\n",
       "      <td>Southampton</td>\n",
       "      <td>yes</td>\n",
       "    </tr>\n",
       "    <tr>\n",
       "      <th>888</th>\n",
       "      <td>Johnston</td>\n",
       "      <td>Miss Catherine Helen \"Carrie\"</td>\n",
       "      <td>F</td>\n",
       "      <td>NaN</td>\n",
       "      <td>3</td>\n",
       "      <td>23.4500</td>\n",
       "      <td>Southampton</td>\n",
       "      <td>no</td>\n",
       "    </tr>\n",
       "    <tr>\n",
       "      <th>889</th>\n",
       "      <td>Behr</td>\n",
       "      <td>Mr. Karl Howell</td>\n",
       "      <td>M</td>\n",
       "      <td>26.0</td>\n",
       "      <td>1</td>\n",
       "      <td>30.0000</td>\n",
       "      <td>Cherbourg</td>\n",
       "      <td>yes</td>\n",
       "    </tr>\n",
       "    <tr>\n",
       "      <th>890</th>\n",
       "      <td>Dooley</td>\n",
       "      <td>Mr. Patrick</td>\n",
       "      <td>M</td>\n",
       "      <td>32.0</td>\n",
       "      <td>3</td>\n",
       "      <td>7.7500</td>\n",
       "      <td>Queenstown</td>\n",
       "      <td>no</td>\n",
       "    </tr>\n",
       "  </tbody>\n",
       "</table>\n",
       "<p>891 rows × 8 columns</p>\n",
       "</div>"
      ],
      "text/plain": [
       "          last                                       first gender   age  \\\n",
       "0       Braund                             Mr. Owen Harris      M  22.0   \n",
       "1      Cumings  Mrs. John Bradley (Florence Briggs Thayer)      F  38.0   \n",
       "2    Heikkinen                                  Miss Laina      F  26.0   \n",
       "3     Futrelle          Mrs. Jacques Heath (Lily May Peel)      F  35.0   \n",
       "4        Allen                           Mr. William Henry      M  35.0   \n",
       "..         ...                                         ...    ...   ...   \n",
       "886   Montvila                                 Rev. Juozas      M  27.0   \n",
       "887     Graham                         Miss Margaret Edith      F  19.0   \n",
       "888   Johnston               Miss Catherine Helen \"Carrie\"      F   NaN   \n",
       "889       Behr                             Mr. Karl Howell      M  26.0   \n",
       "890     Dooley                                 Mr. Patrick      M  32.0   \n",
       "\n",
       "     class     fare     embarked survived  \n",
       "0        3   7.2500  Southampton       no  \n",
       "1        1  71.2833    Cherbourg      yes  \n",
       "2        3   7.9250  Southampton      yes  \n",
       "3        1  53.1000  Southampton      yes  \n",
       "4        3   8.0500  Southampton       no  \n",
       "..     ...      ...          ...      ...  \n",
       "886      2  13.0000  Southampton       no  \n",
       "887      1  30.0000  Southampton      yes  \n",
       "888      3  23.4500  Southampton       no  \n",
       "889      1  30.0000    Cherbourg      yes  \n",
       "890      3   7.7500   Queenstown       no  \n",
       "\n",
       "[891 rows x 8 columns]"
      ]
     },
     "execution_count": 42,
     "metadata": {},
     "output_type": "execute_result"
    }
   ],
   "source": [
    "import pandas as pd\n",
    "df = pd.read_csv(\"Titanic.csv\")\n",
    "df"
   ]
  },
  {
   "cell_type": "code",
   "execution_count": 47,
   "metadata": {},
   "outputs": [
    {
     "data": {
      "text/plain": [
       "(891, 8)"
      ]
     },
     "execution_count": 47,
     "metadata": {},
     "output_type": "execute_result"
    }
   ],
   "source": [
    "df.shape"
   ]
  },
  {
   "cell_type": "code",
   "execution_count": 48,
   "metadata": {},
   "outputs": [
    {
     "data": {
      "text/plain": [
       "0"
      ]
     },
     "execution_count": 48,
     "metadata": {},
     "output_type": "execute_result"
    }
   ],
   "source": [
    "df.duplicated().sum()"
   ]
  },
  {
   "cell_type": "code",
   "execution_count": 49,
   "metadata": {},
   "outputs": [
    {
     "data": {
      "text/plain": [
       "180"
      ]
     },
     "execution_count": 49,
     "metadata": {},
     "output_type": "execute_result"
    }
   ],
   "source": [
    "df.duplicated(['age','fare']).sum()"
   ]
  },
  {
   "cell_type": "code",
   "execution_count": 50,
   "metadata": {},
   "outputs": [
    {
     "data": {
      "text/plain": [
       "True"
      ]
     },
     "execution_count": 50,
     "metadata": {},
     "output_type": "execute_result"
    }
   ],
   "source": [
    "df.isnull().values.any()"
   ]
  },
  {
   "cell_type": "code",
   "execution_count": 51,
   "metadata": {},
   "outputs": [
    {
     "data": {
      "text/plain": [
       "False"
      ]
     },
     "execution_count": 51,
     "metadata": {},
     "output_type": "execute_result"
    }
   ],
   "source": [
    "df['survived'].isnull().values.any()"
   ]
  },
  {
   "cell_type": "code",
   "execution_count": 54,
   "metadata": {},
   "outputs": [
    {
     "data": {
      "text/plain": [
       "<AxesSubplot:xlabel='gender'>"
      ]
     },
     "execution_count": 54,
     "metadata": {},
     "output_type": "execute_result"
    },
    {
     "data": {
      "image/png": "[encoded data removed]",
      "text/plain": [
       "<Figure size 432x288 with 1 Axes>"
      ]
     },
     "metadata": {
      "needs_background": "light"
     },
     "output_type": "display_data"
    }
   ],
   "source": [
    "#df['gender'].value_counts().plot().bar()\n",
    "#df.value_counts()\n",
    "#df['gender'].value_counts().plot.bar()\n",
    "#df.value_counts('gender').plot()"
   ]
  },
  {
   "cell_type": "code",
   "execution_count": 22,
   "metadata": {},
   "outputs": [
    {
     "data": {
      "text/plain": [
       "<AxesSubplot:>"
      ]
     },
     "execution_count": 22,
     "metadata": {},
     "output_type": "execute_result"
    },
    {
     "data": {
      "image/png": "[encoded data removed]",
      "text/plain": [
       "<Figure size 432x288 with 1 Axes>"
      ]
     },
     "metadata": {
      "needs_background": "light"
     },
     "output_type": "display_data"
    }
   ],
   "source": [
    "df['gender'].value_counts().plot.bar()"
   ]
  },
  {
   "cell_type": "code",
   "execution_count": 24,
   "metadata": {},
   "outputs": [
    {
     "data": {
      "text/plain": [
       "last          first                      gender  age   class  fare      embarked     survived\n",
       "van Billiard  Mr. Austin Blyler          M       40.5  3      14.5000   Southampton  no          1\n",
       "Emanuel       Miss Virginia Ethel        F       5.0   3      12.4750   Southampton  yes         1\n",
       "Frolicher     Miss Hedwig Margaritha     F       22.0  1      49.5000   Cherbourg    yes         1\n",
       "Frauenthal    Dr. Henry William          M       50.0  1      133.6500  Southampton  yes         1\n",
       "Francatelli   Miss Laura Mabel           F       30.0  1      56.9292   Cherbourg    yes         1\n",
       "                                                                                                ..\n",
       "Nasser        Mr. Nicholas               M       32.5  2      30.0708   Cherbourg    no          1\n",
       "Nakid         Mr. Sahid                  M       20.0  3      15.7417   Cherbourg    yes         1\n",
       "               Miss Maria (\"Mary\")       F       1.0   3      15.7417   Cherbourg    yes         1\n",
       "Najib          Miss Adele Kiamie \"Jane\"  F       15.0  3      7.2250    Cherbourg    yes         1\n",
       "Abbing        Mr. Anthony                M       42.0  3      7.5500    Southampton  no          1\n",
       "Length: 714, dtype: int64"
      ]
     },
     "execution_count": 24,
     "metadata": {},
     "output_type": "execute_result"
    }
   ],
   "source": [
    "df.value_counts()"
   ]
  },
  {
   "cell_type": "code",
   "execution_count": 31,
   "metadata": {},
   "outputs": [
    {
     "data": {
      "text/plain": [
       "last          0\n",
       "first         0\n",
       "gender        0\n",
       "age         177\n",
       "class         0\n",
       "fare          0\n",
       "embarked      0\n",
       "survived      0\n",
       "dtype: int64"
      ]
     },
     "execution_count": 31,
     "metadata": {},
     "output_type": "execute_result"
    }
   ],
   "source": [
    "df.isnull().sum()"
   ]
  },
  {
   "cell_type": "code",
   "execution_count": 94,
   "metadata": {},
   "outputs": [
    {
     "ename": "SyntaxError",
     "evalue": "invalid syntax (<ipython-input-94-19ad4e03de59>, line 1)",
     "output_type": "error",
     "traceback": [
      "\u001b[1;36m  File \u001b[1;32m\"<ipython-input-94-19ad4e03de59>\"\u001b[1;36m, line \u001b[1;32m1\u001b[0m\n\u001b[1;33m    df[(df.gender == 'M') & (df.survived == 'no') & (df.class == 1)]\u001b[0m\n\u001b[1;37m                                                        ^\u001b[0m\n\u001b[1;31mSyntaxError\u001b[0m\u001b[1;31m:\u001b[0m invalid syntax\n"
     ]
    }
   ],
   "source": [
    "df[(df.gender == 'M') & (df.survived == 'no') & (df.class == 1)]"
   ]
  },
  {
   "cell_type": "code",
   "execution_count": 58,
   "metadata": {},
   "outputs": [
    {
     "data": {
      "text/plain": [
       "M    577\n",
       "F    314\n",
       "Name: gender, dtype: int64"
      ]
     },
     "execution_count": 58,
     "metadata": {},
     "output_type": "execute_result"
    }
   ],
   "source": [
    "df['gender'].value_counts()"
   ]
  },
  {
   "cell_type": "code",
   "execution_count": 32,
   "metadata": {},
   "outputs": [
    {
     "data": {
      "text/plain": [
       "gender  class\n",
       "M       3        347\n",
       "F       3        144\n",
       "M       1        122\n",
       "        2        108\n",
       "F       1         94\n",
       "        2         76\n",
       "dtype: int64"
      ]
     },
     "execution_count": 32,
     "metadata": {},
     "output_type": "execute_result"
    }
   ],
   "source": [
    "df.value_counts([\"gender\", \"class\"])"
   ]
  },
  {
   "cell_type": "code",
   "execution_count": 33,
   "metadata": {},
   "outputs": [
    {
     "data": {
      "text/plain": [
       "gender  survived\n",
       "M       no          468\n",
       "F       yes         233\n",
       "M       yes         109\n",
       "F       no           81\n",
       "dtype: int64"
      ]
     },
     "execution_count": 33,
     "metadata": {},
     "output_type": "execute_result"
    }
   ],
   "source": [
    "df.value_counts([\"gender\", \"survived\"])"
   ]
  },
  {
   "cell_type": "code",
   "execution_count": 40,
   "metadata": {},
   "outputs": [
    {
     "data": {
      "text/plain": [
       "survived  embarked   \n",
       "no        Southampton    427\n",
       "yes       Southampton    219\n",
       "          Cherbourg       93\n",
       "no        Cherbourg       75\n",
       "          Queenstown      47\n",
       "yes       Queenstown      30\n",
       "dtype: int64"
      ]
     },
     "execution_count": 40,
     "metadata": {},
     "output_type": "execute_result"
    }
   ],
   "source": [
    "df.value_counts([\"survived\",\"embarked\"])"
   ]
  },
  {
   "cell_type": "code",
   "execution_count": 39,
   "metadata": {},
   "outputs": [
    {
     "name": "stdout",
     "output_type": "stream",
     "text": [
      "         last                  first gender   age  class     fare  \\\n",
      "0    Williams     Mr. Charles Eugene      M   NaN      2  13.0000   \n",
      "1     Beesley           Mr. Lawrence      M  34.0      2  13.0000   \n",
      "2      Sloper   Mr. William Thompson      M  28.0      1  35.5000   \n",
      "3       Mamee              Mr. Hanna      M   NaN      3   7.2292   \n",
      "4     Woolner               Mr. Hugh      M   NaN      1  35.5000   \n",
      "..        ...                    ...    ...   ...    ...      ...   \n",
      "104      Chip              Mr. Chang      M  32.0      3  56.4958   \n",
      "105  Marechal             Mr. Pierre      M   NaN      1  29.7000   \n",
      "106      Daly        Mr. Peter Denis      M  51.0      1  26.5500   \n",
      "107   Johnson  Master Harold Theodor      M   4.0      3  11.1333   \n",
      "108      Behr        Mr. Karl Howell      M  26.0      1  30.0000   \n",
      "\n",
      "        embarked survived  \n",
      "0    Southampton      yes  \n",
      "1    Southampton      yes  \n",
      "2    Southampton      yes  \n",
      "3      Cherbourg      yes  \n",
      "4    Southampton      yes  \n",
      "..           ...      ...  \n",
      "104  Southampton      yes  \n",
      "105    Cherbourg      yes  \n",
      "106  Southampton      yes  \n",
      "107  Southampton      yes  \n",
      "108    Cherbourg      yes  \n",
      "\n",
      "[109 rows x 8 columns]\n"
     ]
    }
   ],
   "source": [
    "import pandas as pd\n",
    "from pandasql import sqldf\n",
    "dataframe = pd.read_csv(\"https://web.stanford.edu/class/cs102/datasets/Titanic.csv\")\n",
    "print(sqldf(\"select * from dataframe where gender='M' and survived = 'yes';\"))"
   ]
  },
  {
   "cell_type": "code",
   "execution_count": 96,
   "metadata": {},
   "outputs": [
    {
     "name": "stdout",
     "output_type": "stream",
     "text": [
      "   count(*)\n",
      "0        45\n",
      "   count(*)\n",
      "0        77\n"
     ]
    }
   ],
   "source": [
    "print(sqldf(\"select count(*) from dataframe where gender = 'M' and survived = 'yes' and class='1';\"))\n",
    "print(sqldf(\"select count(*) from dataframe where gender = 'M' and survived = 'no' and class='1';\"))"
   ]
  },
  {
   "cell_type": "code",
   "execution_count": 105,
   "metadata": {},
   "outputs": [
    {
     "name": "stdout",
     "output_type": "stream",
     "text": [
      "No of Males in class 1    count(gender)\n",
      "0            122\n",
      "No of Males survived in class 1    count(gender)\n",
      "0             45\n",
      "No of Females in class 1    count(gender)\n",
      "0             94\n",
      "No of Females survived in class 1    count(gender)\n",
      "0             91\n",
      "No of Males in class 2    count(gender)\n",
      "0            108\n",
      "No of Males survived in class 2    count(gender)\n",
      "0             17\n",
      "No of Females in class 2    count(gender)\n",
      "0             76\n",
      "No of Females survived in class 2    count(gender)\n",
      "0             70\n",
      "No of Males in class 3    count(gender)\n",
      "0            347\n",
      "No of Males survived in class 3    count(gender)\n",
      "0             47\n",
      "No of Females in class 3    count(gender)\n",
      "0            144\n",
      "No of Females survived in class 3    count(gender)\n",
      "0             72\n",
      "P(S|M,1)=     count(gender)\n",
      "0       0.368852\n",
      "P(S|F,1)=     count(gender)\n",
      "0       0.968085\n",
      "P(S|M,2)=     count(gender)\n",
      "0       0.157407\n",
      "P(S|F,2)=     count(gender)\n",
      "0       0.921053\n",
      "P(S|M,3)=     count(gender)\n",
      "0       0.135447\n",
      "P(S|F,3)=     count(gender)\n",
      "0            0.5\n"
     ]
    }
   ],
   "source": [
    "import pandas as pd\n",
    "from pandasql import sqldf\n",
    "dataframe = pd.read_csv(\"https://web.stanford.edu/class/cs102/datasets/Titanic.csv\")\n",
    "no_of_male_class1=sqldf(\"select count(gender) from dataframe where gender='M' and class=1;\")\n",
    "no_of_male_surv1=sqldf(\"select count(gender) from dataframe where gender='M' and survived='yes' and class=1;\")\n",
    "no_of_fem_class1=sqldf(\"select count(gender) from dataframe where gender='F' and class=1;\")\n",
    "no_of_fem_surv1=sqldf(\"select count(gender) from dataframe where gender='F' and survived='yes' and class=1;\")\n",
    "\n",
    "print('No of Males in class 1',no_of_male_class1)\n",
    "print('No of Males survived in class 1',no_of_male_surv1)\n",
    "print('No of Females in class 1',no_of_fem_class1)\n",
    "print('No of Females survived in class 1',no_of_fem_surv1)\n",
    "\n",
    "\n",
    "no_of_male_class2=sqldf(\"select count(gender) from dataframe where gender='M' and class=2;\")\n",
    "no_of_male_surv2=sqldf(\"select count(gender) from dataframe where gender='M' and survived='yes' and class=2;\")\n",
    "no_of_fem_class2=sqldf(\"select count(gender) from dataframe where gender='F' and class=2;\")\n",
    "no_of_fem_surv2=sqldf(\"select count(gender) from dataframe where gender='F' and survived='yes' and class=2;\")\n",
    "\n",
    "print('No of Males in class 2',no_of_male_class2)\n",
    "print('No of Males survived in class 2',no_of_male_surv2)\n",
    "print('No of Females in class 2',no_of_fem_class2)\n",
    "print('No of Females survived in class 2',no_of_fem_surv2)\n",
    "\n",
    "\n",
    "no_of_male_class3=sqldf(\"select count(gender) from dataframe where gender='M' and class=3;\")\n",
    "no_of_male_surv3=sqldf(\"select count(gender) from dataframe where gender='M' and survived='yes' and class=3;\")\n",
    "no_of_fem_class3=sqldf(\"select count(gender) from dataframe where gender='F' and class=3;\")\n",
    "no_of_fem_surv3=sqldf(\"select count(gender) from dataframe where gender='F' and survived='yes' and class=3;\")\n",
    "\n",
    "print('No of Males in class 3',no_of_male_class3)\n",
    "print('No of Males survived in class 3',no_of_male_surv3)\n",
    "print('No of Females in class 3',no_of_fem_class3)\n",
    "print('No of Females survived in class 3',no_of_fem_surv3)\n",
    "print('P(S|M,1)= ',no_of_male_surv1/no_of_male_class1)\n",
    "print('P(S|F,1)= ',no_of_fem_surv1/no_of_fem_class1)\n",
    "print('P(S|M,2)= ',no_of_male_surv2/no_of_male_class2)\n",
    "print('P(S|F,2)= ',no_of_fem_surv2/no_of_fem_class2)\n",
    "print('P(S|M,3)= ',no_of_male_surv3/no_of_male_class3)\n",
    "print('P(S|F,3)= ',no_of_fem_surv3/no_of_fem_class3)"
   ]
  },
  {
   "cell_type": "code",
   "execution_count": 150,
   "metadata": {},
   "outputs": [
    {
     "name": "stdout",
     "output_type": "stream",
     "text": [
      "Ratio of Queenstown=     count(survived)\n",
      "0         0.638298\n",
      "Ratio of Cherbourg=     count(survived)\n",
      "0             1.24\n",
      "Ratio of Southampton=     count(survived)\n",
      "0         0.512881\n"
     ]
    }
   ],
   "source": [
    "from pandasql import sqldf\n",
    "dataframe = pd.read_csv(\"https://web.stanford.edu/class/cs102/datasets/Titanic.csv\")\n",
    "survive_Loc_Queenstown=sqldf(\"select count(survived) from dataframe where survived='yes' and embarked='Queenstown';\")\n",
    "died_Loc_Queenstown=sqldf(\"select count(survived) from dataframe where survived='no' and embarked='Queenstown';\")\n",
    "\n",
    "survive_Loc_Cherbourg=sqldf(\"select count(survived) from dataframe where survived='yes' and embarked='Cherbourg';\")\n",
    "died_Loc_Cherbourg=sqldf(\"select count(survived) from dataframe where survived='no' and embarked='Cherbourg';\")\n",
    "\n",
    "survive_Loc_Southampton=sqldf(\"select count(survived) from dataframe where survived='yes' and embarked='Southampton';\")\n",
    "died_Loc_Southampton=sqldf(\"select count(survived) from dataframe where survived='no' and embarked='Southampton';\")\n",
    "\n",
    "\n",
    "\n",
    "print('Ratio of Queenstown= ',survive_Loc_Queenstown/died_Loc_Queenstown)\n",
    "\n",
    "print('Ratio of Cherbourg= ',survive_Loc_Cherbourg/died_Loc_Cherbourg)\n",
    "\n",
    "print('Ratio of Southampton= ',survive_Loc_Southampton/died_Loc_Southampton)"
   ]
  },
  {
   "cell_type": "code",
   "execution_count": 55,
   "metadata": {},
   "outputs": [
    {
     "data": {
      "text/html": [
       "<div>\n",
       "<style scoped>\n",
       "    .dataframe tbody tr th:only-of-type {\n",
       "        vertical-align: middle;\n",
       "    }\n",
       "\n",
       "    .dataframe tbody tr th {\n",
       "        vertical-align: top;\n",
       "    }\n",
       "\n",
       "    .dataframe thead th {\n",
       "        text-align: right;\n",
       "    }\n",
       "</style>\n",
       "<table border=\"1\" class=\"dataframe\">\n",
       "  <thead>\n",
       "    <tr style=\"text-align: right;\">\n",
       "      <th></th>\n",
       "      <th>last</th>\n",
       "      <th>first</th>\n",
       "      <th>gender</th>\n",
       "      <th>age</th>\n",
       "      <th>class</th>\n",
       "      <th>fare</th>\n",
       "      <th>embarked</th>\n",
       "      <th>survived</th>\n",
       "    </tr>\n",
       "  </thead>\n",
       "  <tbody>\n",
       "    <tr>\n",
       "      <th>17</th>\n",
       "      <td>Williams</td>\n",
       "      <td>Mr. Charles Eugene</td>\n",
       "      <td>M</td>\n",
       "      <td>NaN</td>\n",
       "      <td>2</td>\n",
       "      <td>13.0000</td>\n",
       "      <td>Southampton</td>\n",
       "      <td>yes</td>\n",
       "    </tr>\n",
       "    <tr>\n",
       "      <th>21</th>\n",
       "      <td>Beesley</td>\n",
       "      <td>Mr. Lawrence</td>\n",
       "      <td>M</td>\n",
       "      <td>34.0</td>\n",
       "      <td>2</td>\n",
       "      <td>13.0000</td>\n",
       "      <td>Southampton</td>\n",
       "      <td>yes</td>\n",
       "    </tr>\n",
       "    <tr>\n",
       "      <th>23</th>\n",
       "      <td>Sloper</td>\n",
       "      <td>Mr. William Thompson</td>\n",
       "      <td>M</td>\n",
       "      <td>28.0</td>\n",
       "      <td>1</td>\n",
       "      <td>35.5000</td>\n",
       "      <td>Southampton</td>\n",
       "      <td>yes</td>\n",
       "    </tr>\n",
       "    <tr>\n",
       "      <th>36</th>\n",
       "      <td>Mamee</td>\n",
       "      <td>Mr. Hanna</td>\n",
       "      <td>M</td>\n",
       "      <td>NaN</td>\n",
       "      <td>3</td>\n",
       "      <td>7.2292</td>\n",
       "      <td>Cherbourg</td>\n",
       "      <td>yes</td>\n",
       "    </tr>\n",
       "    <tr>\n",
       "      <th>55</th>\n",
       "      <td>Woolner</td>\n",
       "      <td>Mr. Hugh</td>\n",
       "      <td>M</td>\n",
       "      <td>NaN</td>\n",
       "      <td>1</td>\n",
       "      <td>35.5000</td>\n",
       "      <td>Southampton</td>\n",
       "      <td>yes</td>\n",
       "    </tr>\n",
       "    <tr>\n",
       "      <th>...</th>\n",
       "      <td>...</td>\n",
       "      <td>...</td>\n",
       "      <td>...</td>\n",
       "      <td>...</td>\n",
       "      <td>...</td>\n",
       "      <td>...</td>\n",
       "      <td>...</td>\n",
       "      <td>...</td>\n",
       "    </tr>\n",
       "    <tr>\n",
       "      <th>838</th>\n",
       "      <td>Chip</td>\n",
       "      <td>Mr. Chang</td>\n",
       "      <td>M</td>\n",
       "      <td>32.0</td>\n",
       "      <td>3</td>\n",
       "      <td>56.4958</td>\n",
       "      <td>Southampton</td>\n",
       "      <td>yes</td>\n",
       "    </tr>\n",
       "    <tr>\n",
       "      <th>839</th>\n",
       "      <td>Marechal</td>\n",
       "      <td>Mr. Pierre</td>\n",
       "      <td>M</td>\n",
       "      <td>NaN</td>\n",
       "      <td>1</td>\n",
       "      <td>29.7000</td>\n",
       "      <td>Cherbourg</td>\n",
       "      <td>yes</td>\n",
       "    </tr>\n",
       "    <tr>\n",
       "      <th>857</th>\n",
       "      <td>Daly</td>\n",
       "      <td>Mr. Peter Denis</td>\n",
       "      <td>M</td>\n",
       "      <td>51.0</td>\n",
       "      <td>1</td>\n",
       "      <td>26.5500</td>\n",
       "      <td>Southampton</td>\n",
       "      <td>yes</td>\n",
       "    </tr>\n",
       "    <tr>\n",
       "      <th>869</th>\n",
       "      <td>Johnson</td>\n",
       "      <td>Master Harold Theodor</td>\n",
       "      <td>M</td>\n",
       "      <td>4.0</td>\n",
       "      <td>3</td>\n",
       "      <td>11.1333</td>\n",
       "      <td>Southampton</td>\n",
       "      <td>yes</td>\n",
       "    </tr>\n",
       "    <tr>\n",
       "      <th>889</th>\n",
       "      <td>Behr</td>\n",
       "      <td>Mr. Karl Howell</td>\n",
       "      <td>M</td>\n",
       "      <td>26.0</td>\n",
       "      <td>1</td>\n",
       "      <td>30.0000</td>\n",
       "      <td>Cherbourg</td>\n",
       "      <td>yes</td>\n",
       "    </tr>\n",
       "  </tbody>\n",
       "</table>\n",
       "<p>109 rows × 8 columns</p>\n",
       "</div>"
      ],
      "text/plain": [
       "         last                  first gender   age  class     fare  \\\n",
       "17   Williams     Mr. Charles Eugene      M   NaN      2  13.0000   \n",
       "21    Beesley           Mr. Lawrence      M  34.0      2  13.0000   \n",
       "23     Sloper   Mr. William Thompson      M  28.0      1  35.5000   \n",
       "36      Mamee              Mr. Hanna      M   NaN      3   7.2292   \n",
       "55    Woolner               Mr. Hugh      M   NaN      1  35.5000   \n",
       "..        ...                    ...    ...   ...    ...      ...   \n",
       "838      Chip              Mr. Chang      M  32.0      3  56.4958   \n",
       "839  Marechal             Mr. Pierre      M   NaN      1  29.7000   \n",
       "857      Daly        Mr. Peter Denis      M  51.0      1  26.5500   \n",
       "869   Johnson  Master Harold Theodor      M   4.0      3  11.1333   \n",
       "889      Behr        Mr. Karl Howell      M  26.0      1  30.0000   \n",
       "\n",
       "        embarked survived  \n",
       "17   Southampton      yes  \n",
       "21   Southampton      yes  \n",
       "23   Southampton      yes  \n",
       "36     Cherbourg      yes  \n",
       "55   Southampton      yes  \n",
       "..           ...      ...  \n",
       "838  Southampton      yes  \n",
       "839    Cherbourg      yes  \n",
       "857  Southampton      yes  \n",
       "869  Southampton      yes  \n",
       "889    Cherbourg      yes  \n",
       "\n",
       "[109 rows x 8 columns]"
      ]
     },
     "execution_count": 55,
     "metadata": {},
     "output_type": "execute_result"
    }
   ],
   "source": [
    "dataframe.query('gender == \"M\" and survived == \"yes\"')"
   ]
  },
  {
   "cell_type": "code",
   "execution_count": 82,
   "metadata": {},
   "outputs": [
    {
     "data": {
      "text/html": [
       "<div>\n",
       "<style scoped>\n",
       "    .dataframe tbody tr th:only-of-type {\n",
       "        vertical-align: middle;\n",
       "    }\n",
       "\n",
       "    .dataframe tbody tr th {\n",
       "        vertical-align: top;\n",
       "    }\n",
       "\n",
       "    .dataframe thead th {\n",
       "        text-align: right;\n",
       "    }\n",
       "</style>\n",
       "<table border=\"1\" class=\"dataframe\">\n",
       "  <thead>\n",
       "    <tr style=\"text-align: right;\">\n",
       "      <th></th>\n",
       "      <th>last</th>\n",
       "      <th>first</th>\n",
       "      <th>gender</th>\n",
       "      <th>age</th>\n",
       "      <th>class</th>\n",
       "      <th>fare</th>\n",
       "      <th>embarked</th>\n",
       "      <th>survived</th>\n",
       "    </tr>\n",
       "  </thead>\n",
       "  <tbody>\n",
       "    <tr>\n",
       "      <th>6</th>\n",
       "      <td>McCarthy</td>\n",
       "      <td>Mr. Timothy J</td>\n",
       "      <td>M</td>\n",
       "      <td>54.0</td>\n",
       "      <td>1</td>\n",
       "      <td>51.8625</td>\n",
       "      <td>Southampton</td>\n",
       "      <td>no</td>\n",
       "    </tr>\n",
       "    <tr>\n",
       "      <th>23</th>\n",
       "      <td>Sloper</td>\n",
       "      <td>Mr. William Thompson</td>\n",
       "      <td>M</td>\n",
       "      <td>28.0</td>\n",
       "      <td>1</td>\n",
       "      <td>35.5000</td>\n",
       "      <td>Southampton</td>\n",
       "      <td>yes</td>\n",
       "    </tr>\n",
       "    <tr>\n",
       "      <th>27</th>\n",
       "      <td>Fortune</td>\n",
       "      <td>Mr. Charles Alexander</td>\n",
       "      <td>M</td>\n",
       "      <td>19.0</td>\n",
       "      <td>1</td>\n",
       "      <td>263.0000</td>\n",
       "      <td>Southampton</td>\n",
       "      <td>no</td>\n",
       "    </tr>\n",
       "    <tr>\n",
       "      <th>30</th>\n",
       "      <td>Uruchurtu</td>\n",
       "      <td>Don. Manuel E</td>\n",
       "      <td>M</td>\n",
       "      <td>40.0</td>\n",
       "      <td>1</td>\n",
       "      <td>27.7208</td>\n",
       "      <td>Cherbourg</td>\n",
       "      <td>no</td>\n",
       "    </tr>\n",
       "    <tr>\n",
       "      <th>34</th>\n",
       "      <td>Meyer</td>\n",
       "      <td>Mr. Edgar Joseph</td>\n",
       "      <td>M</td>\n",
       "      <td>28.0</td>\n",
       "      <td>1</td>\n",
       "      <td>82.1708</td>\n",
       "      <td>Cherbourg</td>\n",
       "      <td>no</td>\n",
       "    </tr>\n",
       "    <tr>\n",
       "      <th>...</th>\n",
       "      <td>...</td>\n",
       "      <td>...</td>\n",
       "      <td>...</td>\n",
       "      <td>...</td>\n",
       "      <td>...</td>\n",
       "      <td>...</td>\n",
       "      <td>...</td>\n",
       "      <td>...</td>\n",
       "    </tr>\n",
       "    <tr>\n",
       "      <th>839</th>\n",
       "      <td>Marechal</td>\n",
       "      <td>Mr. Pierre</td>\n",
       "      <td>M</td>\n",
       "      <td>NaN</td>\n",
       "      <td>1</td>\n",
       "      <td>29.7000</td>\n",
       "      <td>Cherbourg</td>\n",
       "      <td>yes</td>\n",
       "    </tr>\n",
       "    <tr>\n",
       "      <th>857</th>\n",
       "      <td>Daly</td>\n",
       "      <td>Mr. Peter Denis</td>\n",
       "      <td>M</td>\n",
       "      <td>51.0</td>\n",
       "      <td>1</td>\n",
       "      <td>26.5500</td>\n",
       "      <td>Southampton</td>\n",
       "      <td>yes</td>\n",
       "    </tr>\n",
       "    <tr>\n",
       "      <th>867</th>\n",
       "      <td>Roebling</td>\n",
       "      <td>Mr. Washington Augustus II</td>\n",
       "      <td>M</td>\n",
       "      <td>31.0</td>\n",
       "      <td>1</td>\n",
       "      <td>50.4958</td>\n",
       "      <td>Southampton</td>\n",
       "      <td>no</td>\n",
       "    </tr>\n",
       "    <tr>\n",
       "      <th>872</th>\n",
       "      <td>Carlsson</td>\n",
       "      <td>Mr. Frans Olof</td>\n",
       "      <td>M</td>\n",
       "      <td>33.0</td>\n",
       "      <td>1</td>\n",
       "      <td>5.0000</td>\n",
       "      <td>Southampton</td>\n",
       "      <td>no</td>\n",
       "    </tr>\n",
       "    <tr>\n",
       "      <th>889</th>\n",
       "      <td>Behr</td>\n",
       "      <td>Mr. Karl Howell</td>\n",
       "      <td>M</td>\n",
       "      <td>26.0</td>\n",
       "      <td>1</td>\n",
       "      <td>30.0000</td>\n",
       "      <td>Cherbourg</td>\n",
       "      <td>yes</td>\n",
       "    </tr>\n",
       "  </tbody>\n",
       "</table>\n",
       "<p>122 rows × 8 columns</p>\n",
       "</div>"
      ],
      "text/plain": [
       "          last                       first gender   age  class      fare  \\\n",
       "6     McCarthy               Mr. Timothy J      M  54.0      1   51.8625   \n",
       "23      Sloper        Mr. William Thompson      M  28.0      1   35.5000   \n",
       "27     Fortune       Mr. Charles Alexander      M  19.0      1  263.0000   \n",
       "30   Uruchurtu               Don. Manuel E      M  40.0      1   27.7208   \n",
       "34       Meyer            Mr. Edgar Joseph      M  28.0      1   82.1708   \n",
       "..         ...                         ...    ...   ...    ...       ...   \n",
       "839   Marechal                  Mr. Pierre      M   NaN      1   29.7000   \n",
       "857       Daly             Mr. Peter Denis      M  51.0      1   26.5500   \n",
       "867   Roebling  Mr. Washington Augustus II      M  31.0      1   50.4958   \n",
       "872   Carlsson              Mr. Frans Olof      M  33.0      1    5.0000   \n",
       "889       Behr             Mr. Karl Howell      M  26.0      1   30.0000   \n",
       "\n",
       "        embarked survived  \n",
       "6    Southampton       no  \n",
       "23   Southampton      yes  \n",
       "27   Southampton       no  \n",
       "30     Cherbourg       no  \n",
       "34     Cherbourg       no  \n",
       "..           ...      ...  \n",
       "839    Cherbourg      yes  \n",
       "857  Southampton      yes  \n",
       "867  Southampton       no  \n",
       "872  Southampton       no  \n",
       "889    Cherbourg      yes  \n",
       "\n",
       "[122 rows x 8 columns]"
      ]
     },
     "execution_count": 82,
     "metadata": {},
     "output_type": "execute_result"
    }
   ],
   "source": [
    "dataframe.query('gender == \"M\" and `class` == 1')"
   ]
  },
  {
   "cell_type": "code",
   "execution_count": 76,
   "metadata": {},
   "outputs": [
    {
     "data": {
      "text/html": [
       "<div>\n",
       "<style scoped>\n",
       "    .dataframe tbody tr th:only-of-type {\n",
       "        vertical-align: middle;\n",
       "    }\n",
       "\n",
       "    .dataframe tbody tr th {\n",
       "        vertical-align: top;\n",
       "    }\n",
       "\n",
       "    .dataframe thead th {\n",
       "        text-align: right;\n",
       "    }\n",
       "</style>\n",
       "<table border=\"1\" class=\"dataframe\">\n",
       "  <thead>\n",
       "    <tr style=\"text-align: right;\">\n",
       "      <th></th>\n",
       "      <th>last</th>\n",
       "      <th>first</th>\n",
       "      <th>gender</th>\n",
       "      <th>age</th>\n",
       "      <th>class</th>\n",
       "      <th>fare</th>\n",
       "      <th>embarked</th>\n",
       "      <th>survived</th>\n",
       "    </tr>\n",
       "  </thead>\n",
       "  <tbody>\n",
       "    <tr>\n",
       "      <th>1</th>\n",
       "      <td>Cumings</td>\n",
       "      <td>Mrs. John Bradley (Florence Briggs Thayer)</td>\n",
       "      <td>F</td>\n",
       "      <td>38.0</td>\n",
       "      <td>1</td>\n",
       "      <td>71.2833</td>\n",
       "      <td>Cherbourg</td>\n",
       "      <td>yes</td>\n",
       "    </tr>\n",
       "    <tr>\n",
       "      <th>3</th>\n",
       "      <td>Futrelle</td>\n",
       "      <td>Mrs. Jacques Heath (Lily May Peel)</td>\n",
       "      <td>F</td>\n",
       "      <td>35.0</td>\n",
       "      <td>1</td>\n",
       "      <td>53.1000</td>\n",
       "      <td>Southampton</td>\n",
       "      <td>yes</td>\n",
       "    </tr>\n",
       "    <tr>\n",
       "      <th>6</th>\n",
       "      <td>McCarthy</td>\n",
       "      <td>Mr. Timothy J</td>\n",
       "      <td>M</td>\n",
       "      <td>54.0</td>\n",
       "      <td>1</td>\n",
       "      <td>51.8625</td>\n",
       "      <td>Southampton</td>\n",
       "      <td>no</td>\n",
       "    </tr>\n",
       "    <tr>\n",
       "      <th>11</th>\n",
       "      <td>Bonnell</td>\n",
       "      <td>Miss Elizabeth</td>\n",
       "      <td>F</td>\n",
       "      <td>58.0</td>\n",
       "      <td>1</td>\n",
       "      <td>26.5500</td>\n",
       "      <td>Southampton</td>\n",
       "      <td>yes</td>\n",
       "    </tr>\n",
       "    <tr>\n",
       "      <th>23</th>\n",
       "      <td>Sloper</td>\n",
       "      <td>Mr. William Thompson</td>\n",
       "      <td>M</td>\n",
       "      <td>28.0</td>\n",
       "      <td>1</td>\n",
       "      <td>35.5000</td>\n",
       "      <td>Southampton</td>\n",
       "      <td>yes</td>\n",
       "    </tr>\n",
       "    <tr>\n",
       "      <th>...</th>\n",
       "      <td>...</td>\n",
       "      <td>...</td>\n",
       "      <td>...</td>\n",
       "      <td>...</td>\n",
       "      <td>...</td>\n",
       "      <td>...</td>\n",
       "      <td>...</td>\n",
       "      <td>...</td>\n",
       "    </tr>\n",
       "    <tr>\n",
       "      <th>871</th>\n",
       "      <td>Beckwith</td>\n",
       "      <td>Mrs. Richard Leonard (Sallie Monypeny)</td>\n",
       "      <td>F</td>\n",
       "      <td>47.0</td>\n",
       "      <td>1</td>\n",
       "      <td>52.5542</td>\n",
       "      <td>Southampton</td>\n",
       "      <td>yes</td>\n",
       "    </tr>\n",
       "    <tr>\n",
       "      <th>872</th>\n",
       "      <td>Carlsson</td>\n",
       "      <td>Mr. Frans Olof</td>\n",
       "      <td>M</td>\n",
       "      <td>33.0</td>\n",
       "      <td>1</td>\n",
       "      <td>5.0000</td>\n",
       "      <td>Southampton</td>\n",
       "      <td>no</td>\n",
       "    </tr>\n",
       "    <tr>\n",
       "      <th>879</th>\n",
       "      <td>Potter</td>\n",
       "      <td>Mrs. Thomas Jr (Lily Alexenia Wilson)</td>\n",
       "      <td>F</td>\n",
       "      <td>56.0</td>\n",
       "      <td>1</td>\n",
       "      <td>83.1583</td>\n",
       "      <td>Cherbourg</td>\n",
       "      <td>yes</td>\n",
       "    </tr>\n",
       "    <tr>\n",
       "      <th>887</th>\n",
       "      <td>Graham</td>\n",
       "      <td>Miss Margaret Edith</td>\n",
       "      <td>F</td>\n",
       "      <td>19.0</td>\n",
       "      <td>1</td>\n",
       "      <td>30.0000</td>\n",
       "      <td>Southampton</td>\n",
       "      <td>yes</td>\n",
       "    </tr>\n",
       "    <tr>\n",
       "      <th>889</th>\n",
       "      <td>Behr</td>\n",
       "      <td>Mr. Karl Howell</td>\n",
       "      <td>M</td>\n",
       "      <td>26.0</td>\n",
       "      <td>1</td>\n",
       "      <td>30.0000</td>\n",
       "      <td>Cherbourg</td>\n",
       "      <td>yes</td>\n",
       "    </tr>\n",
       "  </tbody>\n",
       "</table>\n",
       "<p>216 rows × 8 columns</p>\n",
       "</div>"
      ],
      "text/plain": [
       "         last                                       first gender   age  class  \\\n",
       "1     Cumings  Mrs. John Bradley (Florence Briggs Thayer)      F  38.0      1   \n",
       "3    Futrelle          Mrs. Jacques Heath (Lily May Peel)      F  35.0      1   \n",
       "6    McCarthy                               Mr. Timothy J      M  54.0      1   \n",
       "11    Bonnell                              Miss Elizabeth      F  58.0      1   \n",
       "23     Sloper                        Mr. William Thompson      M  28.0      1   \n",
       "..        ...                                         ...    ...   ...    ...   \n",
       "871  Beckwith      Mrs. Richard Leonard (Sallie Monypeny)      F  47.0      1   \n",
       "872  Carlsson                              Mr. Frans Olof      M  33.0      1   \n",
       "879    Potter       Mrs. Thomas Jr (Lily Alexenia Wilson)      F  56.0      1   \n",
       "887    Graham                         Miss Margaret Edith      F  19.0      1   \n",
       "889      Behr                             Mr. Karl Howell      M  26.0      1   \n",
       "\n",
       "        fare     embarked survived  \n",
       "1    71.2833    Cherbourg      yes  \n",
       "3    53.1000  Southampton      yes  \n",
       "6    51.8625  Southampton       no  \n",
       "11   26.5500  Southampton      yes  \n",
       "23   35.5000  Southampton      yes  \n",
       "..       ...          ...      ...  \n",
       "871  52.5542  Southampton      yes  \n",
       "872   5.0000  Southampton       no  \n",
       "879  83.1583    Cherbourg      yes  \n",
       "887  30.0000  Southampton      yes  \n",
       "889  30.0000    Cherbourg      yes  \n",
       "\n",
       "[216 rows x 8 columns]"
      ]
     },
     "execution_count": 76,
     "metadata": {},
     "output_type": "execute_result"
    }
   ],
   "source": [
    "df.query('`class` == 1')"
   ]
  }
 ],
 "metadata": {
  "kernelspec": {
   "display_name": "Python 3",
   "language": "python",
   "name": "python3"
  },
  "language_info": {
   "codemirror_mode": {
    "name": "ipython",
    "version": 3
   },
   "file_extension": ".py",
   "mimetype": "text/x-python",
   "name": "python",
   "nbconvert_exporter": "python",
   "pygments_lexer": "ipython3",
   "version": "3.8.5"
  }
 },
 "nbformat": 4,
 "nbformat_minor": 4
}
