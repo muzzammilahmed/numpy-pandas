{
 "cells": [
  {
   "cell_type": "code",
   "execution_count": 1,
   "metadata": {},
   "outputs": [],
   "source": [
    "import pandas as pd\n",
    "from math import log10, sqrt\n",
    "import numpy as np"
   ]
  },
  {
   "cell_type": "code",
   "execution_count": 2,
   "metadata": {},
   "outputs": [],
   "source": [
    "d0 = \"cats runs behind rats\"\n",
    "d1 = \"dogs runs behind cats\"\n",
    "d2 = \"rats runs cats\"\n",
    "d3 = \"behind runs cats dogs\"\n",
    "q = \"behind rats\"\n",
    "\n",
    "\n",
    "\n",
    "corpus = [d0, d1, d2, d3, q]\n",
    "word_bag =set(d0.split() + d1.split() + d2.split() + d3.split() + q.split())"
   ]
  },
  {
   "cell_type": "code",
   "execution_count": 3,
   "metadata": {},
   "outputs": [
    {
     "data": {
      "text/plain": [
       "(['cats runs behind rats',\n",
       "  'dogs runs behind cats',\n",
       "  'rats runs cats',\n",
       "  'behind runs cats dogs',\n",
       "  'behind rats'],\n",
       " {'behind', 'cats', 'dogs', 'rats', 'runs'},\n",
       " 5)"
      ]
     },
     "execution_count": 3,
     "metadata": {},
     "output_type": "execute_result"
    }
   ],
   "source": [
    "corpus, word_bag, len(word_bag)"
   ]
  },
  {
   "cell_type": "markdown",
   "metadata": {},
   "source": [
    "# Creating Dataframe"
   ]
  },
  {
   "cell_type": "markdown",
   "metadata": {},
   "source": [
    "### Calculating the term frequency of the corpus  "
   ]
  },
  {
   "cell_type": "code",
   "execution_count": 4,
   "metadata": {},
   "outputs": [],
   "source": [
    "def term_frequency(word_bag, corpus):\n",
    "    tf_df = pd.DataFrame(index = list(word_bag), columns = [\"d0\", \"d1\", \"d2\", \"d3\", \"q\"])\n",
    "    for doc, col in zip(corpus, tf_df.columns):\n",
    "        for word in word_bag:\n",
    "            tf_df[col][word] = doc.count(word)\n",
    "    \n",
    "    return tf_df                     "
   ]
  },
  {
   "cell_type": "code",
   "execution_count": 5,
   "metadata": {},
   "outputs": [],
   "source": [
    "tf_df= term_frequency(word_bag, corpus)"
   ]
  },
  {
   "cell_type": "code",
   "execution_count": 6,
   "metadata": {},
   "outputs": [
    {
     "data": {
      "text/html": [
       "<div>\n",
       "<style scoped>\n",
       "    .dataframe tbody tr th:only-of-type {\n",
       "        vertical-align: middle;\n",
       "    }\n",
       "\n",
       "    .dataframe tbody tr th {\n",
       "        vertical-align: top;\n",
       "    }\n",
       "\n",
       "    .dataframe thead th {\n",
       "        text-align: right;\n",
       "    }\n",
       "</style>\n",
       "<table border=\"1\" class=\"dataframe\">\n",
       "  <thead>\n",
       "    <tr style=\"text-align: right;\">\n",
       "      <th></th>\n",
       "      <th>d0</th>\n",
       "      <th>d1</th>\n",
       "      <th>d2</th>\n",
       "      <th>d3</th>\n",
       "      <th>q</th>\n",
       "    </tr>\n",
       "  </thead>\n",
       "  <tbody>\n",
       "    <tr>\n",
       "      <th>behind</th>\n",
       "      <td>1</td>\n",
       "      <td>1</td>\n",
       "      <td>0</td>\n",
       "      <td>1</td>\n",
       "      <td>1</td>\n",
       "    </tr>\n",
       "    <tr>\n",
       "      <th>runs</th>\n",
       "      <td>1</td>\n",
       "      <td>1</td>\n",
       "      <td>1</td>\n",
       "      <td>1</td>\n",
       "      <td>0</td>\n",
       "    </tr>\n",
       "    <tr>\n",
       "      <th>rats</th>\n",
       "      <td>1</td>\n",
       "      <td>0</td>\n",
       "      <td>1</td>\n",
       "      <td>0</td>\n",
       "      <td>1</td>\n",
       "    </tr>\n",
       "    <tr>\n",
       "      <th>dogs</th>\n",
       "      <td>0</td>\n",
       "      <td>1</td>\n",
       "      <td>0</td>\n",
       "      <td>1</td>\n",
       "      <td>0</td>\n",
       "    </tr>\n",
       "    <tr>\n",
       "      <th>cats</th>\n",
       "      <td>1</td>\n",
       "      <td>1</td>\n",
       "      <td>1</td>\n",
       "      <td>1</td>\n",
       "      <td>0</td>\n",
       "    </tr>\n",
       "  </tbody>\n",
       "</table>\n",
       "</div>"
      ],
      "text/plain": [
       "       d0 d1 d2 d3  q\n",
       "behind  1  1  0  1  1\n",
       "runs    1  1  1  1  0\n",
       "rats    1  0  1  0  1\n",
       "dogs    0  1  0  1  0\n",
       "cats    1  1  1  1  0"
      ]
     },
     "execution_count": 6,
     "metadata": {},
     "output_type": "execute_result"
    }
   ],
   "source": [
    "tf_df"
   ]
  },
  {
   "cell_type": "code",
   "execution_count": 7,
   "metadata": {},
   "outputs": [
    {
     "data": {
      "text/html": [
       "<div>\n",
       "<style scoped>\n",
       "    .dataframe tbody tr th:only-of-type {\n",
       "        vertical-align: middle;\n",
       "    }\n",
       "\n",
       "    .dataframe tbody tr th {\n",
       "        vertical-align: top;\n",
       "    }\n",
       "\n",
       "    .dataframe thead th {\n",
       "        text-align: right;\n",
       "    }\n",
       "</style>\n",
       "<table border=\"1\" class=\"dataframe\">\n",
       "  <thead>\n",
       "    <tr style=\"text-align: right;\">\n",
       "      <th></th>\n",
       "      <th>d0</th>\n",
       "      <th>d1</th>\n",
       "      <th>d2</th>\n",
       "      <th>d3</th>\n",
       "      <th>q</th>\n",
       "    </tr>\n",
       "  </thead>\n",
       "  <tbody>\n",
       "    <tr>\n",
       "      <th>behind</th>\n",
       "      <td>NaN</td>\n",
       "      <td>NaN</td>\n",
       "      <td>NaN</td>\n",
       "      <td>NaN</td>\n",
       "      <td>NaN</td>\n",
       "    </tr>\n",
       "    <tr>\n",
       "      <th>runs</th>\n",
       "      <td>NaN</td>\n",
       "      <td>NaN</td>\n",
       "      <td>NaN</td>\n",
       "      <td>NaN</td>\n",
       "      <td>NaN</td>\n",
       "    </tr>\n",
       "    <tr>\n",
       "      <th>rats</th>\n",
       "      <td>NaN</td>\n",
       "      <td>NaN</td>\n",
       "      <td>NaN</td>\n",
       "      <td>NaN</td>\n",
       "      <td>NaN</td>\n",
       "    </tr>\n",
       "    <tr>\n",
       "      <th>dogs</th>\n",
       "      <td>NaN</td>\n",
       "      <td>NaN</td>\n",
       "      <td>NaN</td>\n",
       "      <td>NaN</td>\n",
       "      <td>NaN</td>\n",
       "    </tr>\n",
       "    <tr>\n",
       "      <th>cats</th>\n",
       "      <td>NaN</td>\n",
       "      <td>NaN</td>\n",
       "      <td>NaN</td>\n",
       "      <td>NaN</td>\n",
       "      <td>NaN</td>\n",
       "    </tr>\n",
       "  </tbody>\n",
       "</table>\n",
       "</div>"
      ],
      "text/plain": [
       "         d0   d1   d2   d3    q\n",
       "behind  NaN  NaN  NaN  NaN  NaN\n",
       "runs    NaN  NaN  NaN  NaN  NaN\n",
       "rats    NaN  NaN  NaN  NaN  NaN\n",
       "dogs    NaN  NaN  NaN  NaN  NaN\n",
       "cats    NaN  NaN  NaN  NaN  NaN"
      ]
     },
     "execution_count": 7,
     "metadata": {},
     "output_type": "execute_result"
    }
   ],
   "source": [
    "tf_idf_df = pd.DataFrame(index = list(word_bag), columns = [\"d0\", \"d1\", \"d2\", \"d3\", \"q\"])\n",
    "document_frequencies = {}\n",
    "tf_idf_df"
   ]
  },
  {
   "cell_type": "markdown",
   "metadata": {},
   "source": [
    "# Calculating Document Frequency"
   ]
  },
  {
   "cell_type": "code",
   "execution_count": 8,
   "metadata": {},
   "outputs": [],
   "source": [
    "def document_frequency():\n",
    "    for term in word_bag:\n",
    "        for doc in corpus[:-1]:\n",
    "            if term not in document_frequencies.keys():\n",
    "                document_frequencies[term] = 1\n",
    "            elif term in doc:\n",
    "                document_frequencies[term] += 1\n",
    "                "
   ]
  },
  {
   "cell_type": "code",
   "execution_count": 9,
   "metadata": {},
   "outputs": [
    {
     "data": {
      "text/plain": [
       "{'behind': 3, 'runs': 4, 'rats': 2, 'dogs': 3, 'cats': 4}"
      ]
     },
     "execution_count": 9,
     "metadata": {},
     "output_type": "execute_result"
    }
   ],
   "source": [
    "document_frequency()\n",
    "document_frequencies"
   ]
  },
  {
   "cell_type": "markdown",
   "metadata": {},
   "source": [
    "# TF_IDF"
   ]
  },
  {
   "cell_type": "code",
   "execution_count": 10,
   "metadata": {},
   "outputs": [],
   "source": [
    "def tf_idf():\n",
    "    for term in word_bag:\n",
    "        tf_idf_df.loc[term] = tf_df.loc[term] * log10((len(corpus)-1)/ document_frequencies[term])"
   ]
  },
  {
   "cell_type": "code",
   "execution_count": 11,
   "metadata": {},
   "outputs": [
    {
     "data": {
      "text/html": [
       "<div>\n",
       "<style scoped>\n",
       "    .dataframe tbody tr th:only-of-type {\n",
       "        vertical-align: middle;\n",
       "    }\n",
       "\n",
       "    .dataframe tbody tr th {\n",
       "        vertical-align: top;\n",
       "    }\n",
       "\n",
       "    .dataframe thead th {\n",
       "        text-align: right;\n",
       "    }\n",
       "</style>\n",
       "<table border=\"1\" class=\"dataframe\">\n",
       "  <thead>\n",
       "    <tr style=\"text-align: right;\">\n",
       "      <th></th>\n",
       "      <th>d0</th>\n",
       "      <th>d1</th>\n",
       "      <th>d2</th>\n",
       "      <th>d3</th>\n",
       "      <th>q</th>\n",
       "    </tr>\n",
       "  </thead>\n",
       "  <tbody>\n",
       "    <tr>\n",
       "      <th>behind</th>\n",
       "      <td>0.124939</td>\n",
       "      <td>0.124939</td>\n",
       "      <td>0</td>\n",
       "      <td>0.124939</td>\n",
       "      <td>0.124939</td>\n",
       "    </tr>\n",
       "    <tr>\n",
       "      <th>runs</th>\n",
       "      <td>0</td>\n",
       "      <td>0</td>\n",
       "      <td>0</td>\n",
       "      <td>0</td>\n",
       "      <td>0</td>\n",
       "    </tr>\n",
       "    <tr>\n",
       "      <th>rats</th>\n",
       "      <td>0.30103</td>\n",
       "      <td>0</td>\n",
       "      <td>0.30103</td>\n",
       "      <td>0</td>\n",
       "      <td>0.30103</td>\n",
       "    </tr>\n",
       "    <tr>\n",
       "      <th>dogs</th>\n",
       "      <td>0</td>\n",
       "      <td>0.124939</td>\n",
       "      <td>0</td>\n",
       "      <td>0.124939</td>\n",
       "      <td>0</td>\n",
       "    </tr>\n",
       "    <tr>\n",
       "      <th>cats</th>\n",
       "      <td>0</td>\n",
       "      <td>0</td>\n",
       "      <td>0</td>\n",
       "      <td>0</td>\n",
       "      <td>0</td>\n",
       "    </tr>\n",
       "  </tbody>\n",
       "</table>\n",
       "</div>"
      ],
      "text/plain": [
       "              d0        d1       d2        d3         q\n",
       "behind  0.124939  0.124939        0  0.124939  0.124939\n",
       "runs           0         0        0         0         0\n",
       "rats     0.30103         0  0.30103         0   0.30103\n",
       "dogs           0  0.124939        0  0.124939         0\n",
       "cats           0         0        0         0         0"
      ]
     },
     "execution_count": 11,
     "metadata": {},
     "output_type": "execute_result"
    }
   ],
   "source": [
    "tf_idf()\n",
    "tf_idf_df"
   ]
  },
  {
   "cell_type": "markdown",
   "metadata": {},
   "source": [
    "## Rochio Feedback"
   ]
  },
  {
   "cell_type": "code",
   "execution_count": null,
   "metadata": {},
   "outputs": [],
   "source": []
  },
  {
   "cell_type": "code",
   "execution_count": 19,
   "metadata": {},
   "outputs": [],
   "source": [
    "def Rochio_Feedback(alpha, beta, gamma):\n",
    "    q_updates = (alpha * tf_idf_df[\"q\"]) + (beta * tf_idf_df[\"d1\"]) - (gamma * tf_idf_df[\"d3\"])\n",
    "    return q_updates"
   ]
  },
  {
   "cell_type": "code",
   "execution_count": 20,
   "metadata": {},
   "outputs": [
    {
     "data": {
      "text/plain": [
       "behind     0.212396\n",
       "runs              0\n",
       "rats        0.30103\n",
       "dogs      0.0874571\n",
       "cats              0\n",
       "dtype: object"
      ]
     },
     "execution_count": 20,
     "metadata": {},
     "output_type": "execute_result"
    }
   ],
   "source": [
    "Rochio_Feedback(1, 0.8, 0.1)"
   ]
  },
  {
   "cell_type": "code",
   "execution_count": 54,
   "metadata": {},
   "outputs": [
    {
     "data": {
      "text/plain": [
       "cats              0\n",
       "dogs      -0.099951\n",
       "runs              0\n",
       "rats        0.30103\n",
       "behind    0.0249877\n",
       "dtype: object"
      ]
     },
     "execution_count": 54,
     "metadata": {},
     "output_type": "execute_result"
    }
   ],
   "source": [
    "Rochio_Feedback(1, 0.1, 0.9)"
   ]
  },
  {
   "cell_type": "code",
   "execution_count": 55,
   "metadata": {},
   "outputs": [
    {
     "data": {
      "text/plain": [
       "cats             0\n",
       "dogs             0\n",
       "runs             0\n",
       "rats       0.30103\n",
       "behind    0.124939\n",
       "dtype: object"
      ]
     },
     "execution_count": 55,
     "metadata": {},
     "output_type": "execute_result"
    }
   ],
   "source": [
    "Rochio_Feedback(1, 1, 1)"
   ]
  },
  {
   "cell_type": "markdown",
   "metadata": {},
   "source": [
    "# Jaccard Similarity"
   ]
  },
  {
   "cell_type": "code",
   "execution_count": 56,
   "metadata": {},
   "outputs": [
    {
     "name": "stdout",
     "output_type": "stream",
     "text": [
      "Jaccard similarity between D1 & D2 is: 0.3333333333333333\n",
      "Jaccard similarity between D1 & D3 is: 0.07142857142857142\n",
      "Jaccard similarity between D2 & D3 is: 0.0625\n"
     ]
    }
   ],
   "source": [
    "# Q-2 : Jaccard similarity\n",
    "D1 = \"this is a text about web science\"\n",
    "D2 = \"web science is covering the analysis of text corpa\"\n",
    "D3 = \"scientific methods are used to analyze web pages\"\n",
    "\n",
    "def jaccard_similarity(list1, list2):\n",
    "    set1 = set(list1)\n",
    "    set2 = set(list2)\n",
    "    return len(set1.intersection(set2)) / len(set1.union(set2))\n",
    "    \n",
    "print(\"Jaccard similarity between D1 & D2 is: \"+str(jaccard_similarity(D1.split(),D2.split())))\n",
    "print(\"Jaccard similarity between D1 & D3 is: \"+str(jaccard_similarity(D1.split(),D3.split())))\n",
    "print(\"Jaccard similarity between D2 & D3 is: \"+str(jaccard_similarity(D2.split(),D3.split())))"
   ]
  },
  {
   "cell_type": "markdown",
   "metadata": {},
   "source": [
    "# Cosine Similarity"
   ]
  },
  {
   "cell_type": "code",
   "execution_count": 22,
   "metadata": {},
   "outputs": [
    {
     "name": "stdout",
     "output_type": "stream",
     "text": [
      "Cosine Similarity between D1 & D2 is: 0.6708203932499369\n",
      "Cosine Similarity between D1 & D3 is: 0.3999999999999999\n",
      "Cosine Similarity between Q & D1 is: 0.33806170189140655\n"
     ]
    }
   ],
   "source": [
    "from collections import Counter\n",
    "# Q-4 : Cosine Similarity\n",
    "D1 = \"preliminary findings in corona research\"\n",
    "D2 = \"novel corona research findings\"\n",
    "D3 = \"new research to corona healing\"\n",
    "D4 = \"healing novel corona research\"\n",
    "q = \"novel novel preliminary new research\"\n",
    "\n",
    "def str_to_vec(string):\n",
    "    # count the characters in string\n",
    "    words_count = Counter(string.split())\n",
    "    # precomputes a set of the different characters\n",
    "    words_set = set(words_count)\n",
    "    # precomputes the \"length\" of the word vector\n",
    "    vector_length = sqrt(sum(count*count for count in words_count.values()))\n",
    "    return (words_count, words_set, vector_length)\n",
    "\n",
    "def cosine_dist(v1, v2):\n",
    "    # using intersection() to find common characters.\n",
    "    common = v1[1].intersection(v2[1])\n",
    "    # returning the cosine distance\n",
    "    return sum((v1[0][word])*(v2[0][word]) for word in common)/(v1[2]*v2[2])\n",
    "\n",
    "print(\"Cosine Similarity between D1 & D2 is: \"+str(cosine_dist(str_to_vec(D1),str_to_vec(D2))))\n",
    "print(\"Cosine Similarity between D1 & D3 is: \"+str(cosine_dist(str_to_vec(D1),str_to_vec(D3))))\n",
    "print(\"Cosine Similarity between Q & D1 is: \"+str(cosine_dist(str_to_vec(q),str_to_vec(D1))))"
   ]
  },
  {
   "cell_type": "markdown",
   "metadata": {},
   "source": [
    "# Model the document as Vectors"
   ]
  },
  {
   "cell_type": "code",
   "execution_count": 66,
   "metadata": {},
   "outputs": [],
   "source": [
    "D0 = \"linear venn venn artificial\"\n",
    "D1 = \"linear artificial scikit artificial regression artificial\"\n",
    "D2 = \"scikit regression intelligence regression\"\n",
    "D3 = \"artificial venn tandem intelligence artificial\"\n",
    "D4 = \"regression scikit regression\""
   ]
  },
  {
   "cell_type": "code",
   "execution_count": 67,
   "metadata": {},
   "outputs": [],
   "source": [
    "s0 = D0.split()\n",
    "s1 = D1.split()\n",
    "s2 = D2.split()\n",
    "s3 = D3.split()\n",
    "s4 = D4.split()"
   ]
  },
  {
   "cell_type": "code",
   "execution_count": null,
   "metadata": {},
   "outputs": [],
   "source": []
  },
  {
   "cell_type": "markdown",
   "metadata": {},
   "source": [
    "# 1.2 Term Frequency vector for each of the documents"
   ]
  },
  {
   "cell_type": "code",
   "execution_count": 68,
   "metadata": {},
   "outputs": [],
   "source": [
    "Total = s0+s1+s2+s3+s4"
   ]
  },
  {
   "cell_type": "code",
   "execution_count": 69,
   "metadata": {},
   "outputs": [],
   "source": [
    "def remove_duplicates(D):\n",
    "    return list(dict.fromkeys(D))"
   ]
  },
  {
   "cell_type": "code",
   "execution_count": 70,
   "metadata": {},
   "outputs": [],
   "source": [
    "Corpus = remove_duplicates(Total)"
   ]
  },
  {
   "cell_type": "code",
   "execution_count": 71,
   "metadata": {},
   "outputs": [
    {
     "data": {
      "text/plain": [
       "['linear',\n",
       " 'venn',\n",
       " 'artificial',\n",
       " 'scikit',\n",
       " 'regression',\n",
       " 'intelligence',\n",
       " 'tandem']"
      ]
     },
     "execution_count": 71,
     "metadata": {},
     "output_type": "execute_result"
    }
   ],
   "source": [
    "Corpus"
   ]
  },
  {
   "cell_type": "code",
   "execution_count": 72,
   "metadata": {},
   "outputs": [],
   "source": [
    "def TF_Vectors(Corpus,Document):\n",
    "    vector = []\n",
    "    for i in range (len(Corpus)):\n",
    "        if Corpus[i] in Document:\n",
    "            count = Document.count(Corpus[i])\n",
    "            vector.append(count)\n",
    "        else:\n",
    "            vector.append(0)    \n",
    "    return vector"
   ]
  },
  {
   "cell_type": "code",
   "execution_count": 73,
   "metadata": {},
   "outputs": [],
   "source": [
    "Vector0 = TF_Vectors(Corpus,s0)\n",
    "Vector1 = TF_Vectors(Corpus,s1)\n",
    "Vector2 = TF_Vectors(Corpus,s2)\n",
    "Vector3 = TF_Vectors(Corpus,s3)\n",
    "Vector4 = TF_Vectors(Corpus,s4)"
   ]
  },
  {
   "cell_type": "code",
   "execution_count": 74,
   "metadata": {},
   "outputs": [],
   "source": [
    "Vectors = {\n",
    "    \"Vector0\": Vector0,\n",
    "    \"Vector1\": Vector1,\n",
    "    \"Vector2\": Vector2,\n",
    "    \"Vector3\": Vector3,\n",
    "    \"Vector4\": Vector4\n",
    "}"
   ]
  },
  {
   "cell_type": "code",
   "execution_count": 75,
   "metadata": {},
   "outputs": [],
   "source": [
    "df = pd.DataFrame(Vectors, index=Corpus)"
   ]
  },
  {
   "cell_type": "markdown",
   "metadata": {},
   "source": [
    "# 1.3 Rank the documents using the Cosine Similarity (using the tf-idf weighting of terms)"
   ]
  },
  {
   "cell_type": "markdown",
   "metadata": {},
   "source": [
    "# document frequency"
   ]
  },
  {
   "cell_type": "code",
   "execution_count": 76,
   "metadata": {},
   "outputs": [],
   "source": [
    "docfreq = []\n",
    "for i in range(len(Corpus)):\n",
    "    \n",
    "    count = 0\n",
    "    if list(df.loc[Corpus[i]]) != 0:\n",
    "        count = np.count_nonzero(list(df.loc[Corpus[i]]))\n",
    "        docfreq.append(count)\n",
    "    else:\n",
    "        docfreq.append(count)"
   ]
  },
  {
   "cell_type": "code",
   "execution_count": 77,
   "metadata": {},
   "outputs": [
    {
     "data": {
      "text/plain": [
       "[2, 2, 3, 3, 3, 2, 1]"
      ]
     },
     "execution_count": 77,
     "metadata": {},
     "output_type": "execute_result"
    }
   ],
   "source": [
    "docfreq"
   ]
  },
  {
   "cell_type": "code",
   "execution_count": 78,
   "metadata": {},
   "outputs": [],
   "source": [
    "DocumentFrequency = {\n",
    "   \n",
    "    \"DocumentFrequency\": docfreq\n",
    "}"
   ]
  },
  {
   "cell_type": "code",
   "execution_count": 79,
   "metadata": {},
   "outputs": [],
   "source": [
    "df1 = pd.DataFrame(DocumentFrequency, index=Corpus)"
   ]
  },
  {
   "cell_type": "code",
   "execution_count": 80,
   "metadata": {},
   "outputs": [],
   "source": [
    "idf=[]\n",
    "N=4\n",
    "for i in range(len(docfreq)):\n",
    "    idf.append(np.log10(N/docfreq[i]))"
   ]
  },
  {
   "cell_type": "code",
   "execution_count": 81,
   "metadata": {},
   "outputs": [
    {
     "data": {
      "text/plain": [
       "[0.3010299956639812,\n",
       " 0.3010299956639812,\n",
       " 0.12493873660829993,\n",
       " 0.12493873660829993,\n",
       " 0.12493873660829993,\n",
       " 0.3010299956639812,\n",
       " 0.6020599913279624]"
      ]
     },
     "execution_count": 81,
     "metadata": {},
     "output_type": "execute_result"
    }
   ],
   "source": [
    "# 'linear',\n",
    "#  'venn',\n",
    "#  'artificial',\n",
    "#  'scikit',\n",
    "#  'regression',\n",
    "#  'intelligence',\n",
    "#  'tandem'\n",
    "idf"
   ]
  },
  {
   "cell_type": "code",
   "execution_count": 82,
   "metadata": {},
   "outputs": [],
   "source": [
    "Index = {\n",
    "   \n",
    "    \"DocumentFrequency\": docfreq,\n",
    "    \"InverseDocumentFrequency\": idf\n",
    "}"
   ]
  },
  {
   "cell_type": "code",
   "execution_count": 83,
   "metadata": {},
   "outputs": [],
   "source": [
    "df2 = pd.DataFrame(Index, index=Corpus)"
   ]
  },
  {
   "cell_type": "code",
   "execution_count": 84,
   "metadata": {},
   "outputs": [],
   "source": [
    "def TF_IDF(TF,IDF):\n",
    "    tf_idf=[]\n",
    "    for i in range(len(TF)):\n",
    "        tf_idf.append(TF[i]*IDF[i])\n",
    "    return tf_idf"
   ]
  },
  {
   "cell_type": "code",
   "execution_count": 86,
   "metadata": {},
   "outputs": [],
   "source": [
    "d0 = TF_IDF(Vector0,idf)\n",
    "d1 = TF_IDF(Vector1,idf)\n",
    "d2 = TF_IDF(Vector2,idf)\n",
    "d3 = TF_IDF(Vector3,idf)\n",
    "d4 = TF_IDF(Vector4,idf)"
   ]
  },
  {
   "cell_type": "code",
   "execution_count": 87,
   "metadata": {},
   "outputs": [],
   "source": [
    "TF_IDF_Vectors = {\n",
    "    \"d0\": d0,\n",
    "    \"d1\": d1,\n",
    "    \"d2\": d2,\n",
    "    \"d3\": d3,\n",
    "    \"d4\": d4\n",
    "}"
   ]
  },
  {
   "cell_type": "code",
   "execution_count": 88,
   "metadata": {},
   "outputs": [
    {
     "data": {
      "text/html": [
       "<div>\n",
       "<style scoped>\n",
       "    .dataframe tbody tr th:only-of-type {\n",
       "        vertical-align: middle;\n",
       "    }\n",
       "\n",
       "    .dataframe tbody tr th {\n",
       "        vertical-align: top;\n",
       "    }\n",
       "\n",
       "    .dataframe thead th {\n",
       "        text-align: right;\n",
       "    }\n",
       "</style>\n",
       "<table border=\"1\" class=\"dataframe\">\n",
       "  <thead>\n",
       "    <tr style=\"text-align: right;\">\n",
       "      <th></th>\n",
       "      <th>d0</th>\n",
       "      <th>d1</th>\n",
       "      <th>d2</th>\n",
       "      <th>d3</th>\n",
       "      <th>d4</th>\n",
       "    </tr>\n",
       "  </thead>\n",
       "  <tbody>\n",
       "    <tr>\n",
       "      <th>linear</th>\n",
       "      <td>0.301030</td>\n",
       "      <td>0.301030</td>\n",
       "      <td>0.000000</td>\n",
       "      <td>0.000000</td>\n",
       "      <td>0.000000</td>\n",
       "    </tr>\n",
       "    <tr>\n",
       "      <th>venn</th>\n",
       "      <td>0.602060</td>\n",
       "      <td>0.000000</td>\n",
       "      <td>0.000000</td>\n",
       "      <td>0.301030</td>\n",
       "      <td>0.000000</td>\n",
       "    </tr>\n",
       "    <tr>\n",
       "      <th>artificial</th>\n",
       "      <td>0.124939</td>\n",
       "      <td>0.374816</td>\n",
       "      <td>0.000000</td>\n",
       "      <td>0.249877</td>\n",
       "      <td>0.000000</td>\n",
       "    </tr>\n",
       "    <tr>\n",
       "      <th>scikit</th>\n",
       "      <td>0.000000</td>\n",
       "      <td>0.124939</td>\n",
       "      <td>0.124939</td>\n",
       "      <td>0.000000</td>\n",
       "      <td>0.124939</td>\n",
       "    </tr>\n",
       "    <tr>\n",
       "      <th>regression</th>\n",
       "      <td>0.000000</td>\n",
       "      <td>0.124939</td>\n",
       "      <td>0.249877</td>\n",
       "      <td>0.000000</td>\n",
       "      <td>0.249877</td>\n",
       "    </tr>\n",
       "    <tr>\n",
       "      <th>intelligence</th>\n",
       "      <td>0.000000</td>\n",
       "      <td>0.000000</td>\n",
       "      <td>0.301030</td>\n",
       "      <td>0.301030</td>\n",
       "      <td>0.000000</td>\n",
       "    </tr>\n",
       "    <tr>\n",
       "      <th>tandem</th>\n",
       "      <td>0.000000</td>\n",
       "      <td>0.000000</td>\n",
       "      <td>0.000000</td>\n",
       "      <td>0.602060</td>\n",
       "      <td>0.000000</td>\n",
       "    </tr>\n",
       "  </tbody>\n",
       "</table>\n",
       "</div>"
      ],
      "text/plain": [
       "                    d0        d1        d2        d3        d4\n",
       "linear        0.301030  0.301030  0.000000  0.000000  0.000000\n",
       "venn          0.602060  0.000000  0.000000  0.301030  0.000000\n",
       "artificial    0.124939  0.374816  0.000000  0.249877  0.000000\n",
       "scikit        0.000000  0.124939  0.124939  0.000000  0.124939\n",
       "regression    0.000000  0.124939  0.249877  0.000000  0.249877\n",
       "intelligence  0.000000  0.000000  0.301030  0.301030  0.000000\n",
       "tandem        0.000000  0.000000  0.000000  0.602060  0.000000"
      ]
     },
     "execution_count": 88,
     "metadata": {},
     "output_type": "execute_result"
    }
   ],
   "source": [
    "df3 = pd.DataFrame(TF_IDF_Vectors, index=Corpus)\n",
    "df3"
   ]
  },
  {
   "cell_type": "code",
   "execution_count": null,
   "metadata": {},
   "outputs": [],
   "source": []
  },
  {
   "cell_type": "code",
   "execution_count": null,
   "metadata": {},
   "outputs": [],
   "source": []
  }
 ],
 "metadata": {
  "kernelspec": {
   "display_name": "Python 3",
   "language": "python",
   "name": "python3"
  },
  "language_info": {
   "codemirror_mode": {
    "name": "ipython",
    "version": 3
   },
   "file_extension": ".py",
   "mimetype": "text/x-python",
   "name": "python",
   "nbconvert_exporter": "python",
   "pygments_lexer": "ipython3",
   "version": "3.8.5"
  }
 },
 "nbformat": 4,
 "nbformat_minor": 4
}
