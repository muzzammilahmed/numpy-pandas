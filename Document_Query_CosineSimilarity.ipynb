{
 "cells": [
  {
   "cell_type": "code",
   "execution_count": 1,
   "metadata": {},
   "outputs": [
    {
     "name": "stdout",
     "output_type": "stream",
     "text": [
      "           D1   D2   D3    D4\n",
      "cancer    0.0  0.2  0.0  0.25\n",
      "corona    0.2  0.0  0.2  0.00\n",
      "lab       0.0  0.0  0.2  0.50\n",
      "research  0.4  0.4  0.0  0.25\n",
      "vaccine   0.2  0.4  0.2  0.00\n",
      "virus     0.2  0.0  0.4  0.00\n"
     ]
    }
   ],
   "source": [
    "import pandas as pd\n",
    "\n",
    "D1= \"vaccine research corona virus research\"\n",
    "D2= \"research research cancer vaccine vaccine\"\n",
    "D3= \"virus virus corona vaccine lab\"\n",
    "D4= \"cancer lab research lab\"\n",
    "\n",
    "\n",
    "corpus=[D1,D2,D3,D4]\n",
    "word_bag= set(D1.split()+D2.split()+D3.split()+D4.split())\n",
    "\n",
    "\n",
    "\n",
    "def term_frequency(a, b):\n",
    "    data1={}\n",
    "    alpha = list(word_bag)\n",
    "    alpha.sort(reverse=False)\n",
    "    for i in range(len(corpus)):\n",
    "        val=[]\n",
    "        for j in range(len(alpha)):\n",
    "            count = corpus[i].count(alpha[j])\n",
    "            value = round(count/len(corpus[i].split()),2)\n",
    "            val.append(value)\n",
    "        data1[i] = val    \n",
    "    \n",
    "    dataframe=pd.DataFrame(data1, index=alpha)\n",
    "    dataframe=dataframe.rename(columns={0: 'D1',1: 'D2',2: 'D3',3: 'D4'})\n",
    "    return dataframe\n",
    "\n",
    "print(term_frequency(word_bag,corpus))"
   ]
  },
  {
   "cell_type": "code",
   "execution_count": 2,
   "metadata": {},
   "outputs": [],
   "source": [
    "query = \"vaccine vaccine research cancer\""
   ]
  },
  {
   "cell_type": "code",
   "execution_count": 19,
   "metadata": {},
   "outputs": [
    {
     "data": {
      "text/plain": [
       "['research', 'cancer', 'vaccine']"
      ]
     },
     "execution_count": 19,
     "metadata": {},
     "output_type": "execute_result"
    }
   ],
   "source": [
    "corpus=[D1,D2,D3,D4]\n",
    "count1=0\n",
    "count2=0\n",
    "count3=0\n",
    "for item in corpus:\n",
    "    count1=len(item.split(\" \"))\n",
    "    count2=count2+count1\n",
    "\n",
    "count2 \n",
    "\n",
    "word_bag2= set(query.split())\n",
    "alpha2 = list(word_bag2)\n",
    "alpha2\n",
    "   \n",
    "    \n",
    "# for i in range(len(corpus)):\n",
    "#     if alpha2[i] in corpus:\n",
    "#         count = count+1\n",
    "#         print('It exist')\n",
    "# count        \n",
    "      \n",
    "\n",
    "# def check_if_exists(x, ls):\n",
    "#     if x in ls:\n",
    "#         print(str(x) + ' is inside the list')\n",
    "#     else:\n",
    "#         print(str(x) + ' is not present in the list')\n",
    "\n",
    "# #print(check_if_exists(alpha2,corpus))        \n",
    "# corpus\n",
    "# def term_frequency(a, b):\n",
    "#     data1={}\n",
    "#     alpha = list(word_bag)\n",
    "#     alpha.sort(reverse=False)\n",
    "#     for i in range(len(corpus)):\n",
    "#         val=[]\n",
    "#         for j in range(len(alpha)):\n",
    "#             count = corpus[i].count(alpha[j])\n",
    "#             value = round(count/len(corpus[i].split()),2)\n",
    "#             val.append(value)\n",
    "#         data1[i] = val    \n",
    "    \n",
    "#     dataframe=pd.DataFrame(data1, index=alpha)\n",
    "#     dataframe=dataframe.rename(columns={0: 'D1',1: 'D2',2: 'D3',3: 'D4'})\n",
    "#     return dataframe\n",
    "\n",
    "# print(term_frequency(word_bag,corpus))"
   ]
  },
  {
   "cell_type": "code",
   "execution_count": 32,
   "metadata": {},
   "outputs": [
    {
     "data": {
      "text/plain": [
       "['vaccine', 'vaccine', 'research', 'cancer']"
      ]
     },
     "execution_count": 32,
     "metadata": {},
     "output_type": "execute_result"
    }
   ],
   "source": [
    "queryVals= query.split()\n",
    "queryVals"
   ]
  },
  {
   "cell_type": "code",
   "execution_count": 33,
   "metadata": {},
   "outputs": [],
   "source": [
    "Corpus = list(set(D1.split()+D2.split()+D3.split()+D4.split()))\n",
    "Corpus=sorted(Corpus)\n",
    "query = \"vaccine vaccine research cancer\"\n",
    "qTerms = query.split() \n",
    "docList = [D1.split(), D2.split() , D3.split(), D4.split()]\n",
    "docList\n",
    "df = pd.DataFrame(columns=Corpus)\n",
    "df\n",
    "emptylist = [0 for x in range (len(docList))]\n",
    "for i in range (len(Corpus)):\n",
    "    j = 0\n",
    "    for document in docList:\n",
    "        emptylist[j] = document.count(Corpus[i])/len(document)\n",
    "        j+=1\n",
    "    df[Corpus[i]] = emptylist\n",
    "    emptylist = [0 for x in range(len(docList))]"
   ]
  },
  {
   "cell_type": "code",
   "execution_count": 34,
   "metadata": {},
   "outputs": [],
   "source": [
    "df1 = df.T.sort_index()\n",
    "pmc = {}\n",
    "for term in Corpus:\n",
    "    countT=0\n",
    "    corpusLength=0\n",
    "    for d in docList:\n",
    "        corpusLength += len(d)\n",
    "        countT += d.count(term)\n",
    "    pmc[term] = countT / corpusLength"
   ]
  },
  {
   "cell_type": "code",
   "execution_count": 35,
   "metadata": {},
   "outputs": [
    {
     "data": {
      "text/plain": [
       "{'cancer': 0.10526315789473684,\n",
       " 'corona': 0.10526315789473684,\n",
       " 'lab': 0.15789473684210525,\n",
       " 'research': 0.2631578947368421,\n",
       " 'vaccine': 0.21052631578947367,\n",
       " 'virus': 0.15789473684210525}"
      ]
     },
     "execution_count": 35,
     "metadata": {},
     "output_type": "execute_result"
    }
   ],
   "source": [
    "pmc"
   ]
  },
  {
   "cell_type": "code",
   "execution_count": 36,
   "metadata": {},
   "outputs": [
    {
     "name": "stdout",
     "output_type": "stream",
     "text": [
      "[0, 0, 0, 0]\n"
     ]
    }
   ],
   "source": [
    "temp = [0 for x in range (len(docList))]\n",
    "print(temp)\n",
    "pUni = [1 for i in range (len(docList))]\n",
    "for k in df.keys():\n",
    "    for t in qTerms:\n",
    "        if k==t:\n",
    "            pUni = [a*b for a,b in zip(pUni,df[k])]    "
   ]
  },
  {
   "cell_type": "code",
   "execution_count": 38,
   "metadata": {},
   "outputs": [
    {
     "name": "stdout",
     "output_type": "stream",
     "text": [
      "1 0.0\n",
      "2 0.012800000000000004\n",
      "3 0.0\n",
      "4 0.0\n"
     ]
    }
   ],
   "source": [
    "for idx, val in enumerate(pUni):\n",
    "    print (idx+1, val)"
   ]
  },
  {
   "cell_type": "code",
   "execution_count": 26,
   "metadata": {},
   "outputs": [],
   "source": [
    "linearInterpolated = [1 for i in range (len(docList))]\n",
    "for m in df.keys():\n",
    "    for terms in qTerms:\n",
    "        if m==terms:\n",
    "            linearInterpolated *=  ((1/2 * df[m]) + (1/2 * pmc[terms]))  "
   ]
  },
  {
   "cell_type": "code",
   "execution_count": 27,
   "metadata": {},
   "outputs": [
    {
     "data": {
      "text/plain": [
       "0    0.000735\n",
       "1    0.004716\n",
       "2    0.000292\n",
       "3    0.000505\n",
       "Name: cancer, dtype: float64"
      ]
     },
     "execution_count": 27,
     "metadata": {},
     "output_type": "execute_result"
    }
   ],
   "source": [
    "linearInterpolated"
   ]
  },
  {
   "cell_type": "code",
   "execution_count": 28,
   "metadata": {},
   "outputs": [
    {
     "name": "stdout",
     "output_type": "stream",
     "text": [
      "Here is K=  cancer\n",
      "Here is t=  vaccine\n",
      "Here is t=  vaccine\n",
      "Here is t=  research\n",
      "Here is t=  cancer\n",
      "Here is K=  corona\n",
      "Here is t=  vaccine\n",
      "Here is t=  vaccine\n",
      "Here is t=  research\n",
      "Here is t=  cancer\n",
      "Here is K=  lab\n",
      "Here is t=  vaccine\n",
      "Here is t=  vaccine\n",
      "Here is t=  research\n",
      "Here is t=  cancer\n",
      "Here is K=  research\n",
      "Here is t=  vaccine\n",
      "Here is t=  vaccine\n",
      "Here is t=  research\n",
      "Here is t=  cancer\n",
      "Here is K=  vaccine\n",
      "Here is t=  vaccine\n",
      "Here is t=  vaccine\n",
      "Here is t=  research\n",
      "Here is t=  cancer\n",
      "Here is K=  virus\n",
      "Here is t=  vaccine\n",
      "Here is t=  vaccine\n",
      "Here is t=  research\n",
      "Here is t=  cancer\n"
     ]
    }
   ],
   "source": [
    "corpus2 = list(set(D1.split()+D2.split()+D3.split()+D4.split()))\n",
    "corpus2=sorted(corpus2)\n",
    "df = pd.DataFrame(columns=corpus2)\n",
    "documentList = [D1.split(), D2.split(), D3.split(), D4.split()]\n",
    "# documentList\n",
    "pUni = [1 for i in range (len(documentList))]\n",
    "for k in df.keys():\n",
    "    print('Here is K= ', k)\n",
    "    for t in queryVals:\n",
    "        print('Here is t= ', t)\n",
    "        if k==t:\n",
    "            pUni = [a*b for a,b in zip(pUni,df[k])]   \n",
    "            "
   ]
  },
  {
   "cell_type": "code",
   "execution_count": 39,
   "metadata": {},
   "outputs": [
    {
     "name": "stdout",
     "output_type": "stream",
     "text": [
      "0.3979400086720376\n"
     ]
    }
   ],
   "source": [
    "import math\n",
    "print(math.log((5/2),10))"
   ]
  },
  {
   "cell_type": "markdown",
   "metadata": {},
   "source": [
    "# Cosine Similarity"
   ]
  },
  {
   "cell_type": "code",
   "execution_count": 45,
   "metadata": {},
   "outputs": [
    {
     "name": "stdout",
     "output_type": "stream",
     "text": [
      "0.1969584\n",
      "0.6358463729549771\n",
      "4.940386786063661\n"
     ]
    }
   ],
   "source": [
    "import numpy as np\n",
    "document_vector=np.array([0.00,0.00,0.00,0.2218,0.4436,0.3979,0.00])\n",
    "query_vector=np.array([0.0, 0.0, 0.0, 0.444, 0.222, 0.0, 0.0])\n",
    "\n",
    "x= np.dot(document_vector,query_vector)\n",
    "print(x)\n",
    "y=np.linalg.norm(document_vector)\n",
    "z=np.linalg.norm(query_vector)\n",
    "print(y)\n",
    "cosine = x/(0.411*0.097)\n",
    "print(cosine)"
   ]
  }
 ],
 "metadata": {
  "kernelspec": {
   "display_name": "Python 3",
   "language": "python",
   "name": "python3"
  },
  "language_info": {
   "codemirror_mode": {
    "name": "ipython",
    "version": 3
   },
   "file_extension": ".py",
   "mimetype": "text/x-python",
   "name": "python",
   "nbconvert_exporter": "python",
   "pygments_lexer": "ipython3",
   "version": "3.8.5"
  }
 },
 "nbformat": 4,
 "nbformat_minor": 4
}
