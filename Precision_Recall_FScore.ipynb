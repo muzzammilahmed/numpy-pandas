{
 "cells": [
  {
   "cell_type": "code",
   "execution_count": 2,
   "metadata": {
    "scrolled": true
   },
   "outputs": [
    {
     "data": {
      "text/plain": [
       "45"
      ]
     },
     "execution_count": 2,
     "metadata": {},
     "output_type": "execute_result"
    }
   ],
   "source": [
    "import pandas as pd\n",
    "import numpy as np\n",
    "df = pd.read_csv('iris_dataset.csv')\n",
    "df.shape[0]"
   ]
  },
  {
   "cell_type": "markdown",
   "metadata": {},
   "source": [
    "# PRECISION"
   ]
  },
  {
   "cell_type": "code",
   "execution_count": 3,
   "metadata": {},
   "outputs": [
    {
     "name": "stdout",
     "output_type": "stream",
     "text": [
      "Predicted as setosa and actual is also setosa=  19 \n",
      "Predicted as setosa but actual is not setosa=  0\n",
      "Precision of setosa=  1.0\n"
     ]
    }
   ],
   "source": [
    "TPs = df.query(\"retrieved == 'setosa' & gold_standard == 'setosa'\").shape[0]\n",
    "FPs = df.query(\"retrieved == 'setosa' & gold_standard != 'setosa'\").shape[0]\n",
    "print('Predicted as setosa and actual is also setosa= ',TPs,\n",
    "      '\\nPredicted as setosa but actual is not setosa= ',FPs)\n",
    "Ps = TPs/(TPs+FPs)\n",
    "print('Precision of setosa= ',round(Ps,2))"
   ]
  },
  {
   "cell_type": "code",
   "execution_count": 4,
   "metadata": {},
   "outputs": [
    {
     "name": "stdout",
     "output_type": "stream",
     "text": [
      "Predicted as versicolor and actual is also versicolor=  15 \n",
      "Predicted as versicolor but actual is not versicolor=  0\n",
      "Precision of versicolor=  1.0\n"
     ]
    }
   ],
   "source": [
    "TPv = df.query(\"retrieved == 'versicolor' & gold_standard == 'versicolor'\").shape[0]\n",
    "FPv = df.query(\"retrieved == 'versicolor' & gold_standard != 'versicolor'\").shape[0]\n",
    "print('Predicted as versicolor and actual is also versicolor= ',TPv,\n",
    "      '\\nPredicted as versicolor but actual is not versicolor= ',FPv)\n",
    "Pv = TPv/(TPv+FPv)\n",
    "print('Precision of versicolor= ',round(Pv,2))"
   ]
  },
  {
   "cell_type": "code",
   "execution_count": 5,
   "metadata": {},
   "outputs": [
    {
     "name": "stdout",
     "output_type": "stream",
     "text": [
      "Predicted as virginica and actual is also virginica=  7 \n",
      "Predicted as virginica but actual is not virginica=  4\n",
      "Precision of virginica=  0.64\n"
     ]
    }
   ],
   "source": [
    "TPvi = df.query(\"retrieved == 'virginica' & gold_standard == 'virginica'\").shape[0]\n",
    "FPvi = df.query(\"retrieved == 'virginica' & gold_standard != 'virginica'\").shape[0]\n",
    "print('Predicted as virginica and actual is also virginica= ',TPvi,\n",
    "      '\\nPredicted as virginica but actual is not virginica= ',FPvi)\n",
    "Pvi = TPvi/(TPvi+FPvi)\n",
    "print('Precision of virginica= ',round(Pvi,2))"
   ]
  },
  {
   "cell_type": "markdown",
   "metadata": {},
   "source": [
    "# RECALL"
   ]
  },
  {
   "cell_type": "code",
   "execution_count": 6,
   "metadata": {},
   "outputs": [
    {
     "name": "stdout",
     "output_type": "stream",
     "text": [
      "Not predicted as setosa but actual is setosa=  0\n",
      "Recall of setosa=  1.0\n"
     ]
    }
   ],
   "source": [
    "FNs = df.query(\"retrieved != 'setosa' & gold_standard == 'setosa'\").shape[0]\n",
    "print('Not predicted as setosa but actual is setosa= ',FNs)\n",
    "RecS = TPs/(TPs+FNs)\n",
    "print('Recall of setosa= ',RecS)"
   ]
  },
  {
   "cell_type": "code",
   "execution_count": 7,
   "metadata": {},
   "outputs": [
    {
     "name": "stdout",
     "output_type": "stream",
     "text": [
      "Not predicted as versicolor but actual is versicolor=  4\n",
      "Recall of versicolor=  0.79\n"
     ]
    }
   ],
   "source": [
    "FNv = df.query(\"retrieved != 'versicolor' & gold_standard == 'versicolor'\").shape[0]\n",
    "print('Not predicted as versicolor but actual is versicolor= ',FNv)\n",
    "RecV = TPv/(TPv+FNv)\n",
    "print('Recall of versicolor= ',round(RecV,2))"
   ]
  },
  {
   "cell_type": "code",
   "execution_count": 8,
   "metadata": {},
   "outputs": [
    {
     "name": "stdout",
     "output_type": "stream",
     "text": [
      "Not predicted as virginica but actual is virginica=  0\n",
      "Recall of virginica=  1.0\n"
     ]
    }
   ],
   "source": [
    "FNvi = df.query(\"retrieved != 'virginica' & gold_standard == 'virginica'\").shape[0]\n",
    "print('Not predicted as virginica but actual is virginica= ',FNvi)\n",
    "RecVi = TPvi/(TPvi+FNvi)\n",
    "print('Recall of virginica= ',RecVi)"
   ]
  },
  {
   "cell_type": "markdown",
   "metadata": {},
   "source": [
    "# F-Score"
   ]
  },
  {
   "cell_type": "code",
   "execution_count": 9,
   "metadata": {},
   "outputs": [
    {
     "name": "stdout",
     "output_type": "stream",
     "text": [
      "F-Score of setosa=  1.0\n"
     ]
    }
   ],
   "source": [
    "Fs = 2*((RecS*Ps)/(Ps+RecS))\n",
    "print('F-Score of setosa= ',Fs)"
   ]
  },
  {
   "cell_type": "code",
   "execution_count": 10,
   "metadata": {},
   "outputs": [
    {
     "name": "stdout",
     "output_type": "stream",
     "text": [
      "F-Score of versicolor=  0.88\n"
     ]
    }
   ],
   "source": [
    "Fv = 2*((RecV*Pv)/(Pv+RecV))\n",
    "print('F-Score of versicolor= ',round(Fv,2))"
   ]
  },
  {
   "cell_type": "code",
   "execution_count": 11,
   "metadata": {},
   "outputs": [
    {
     "name": "stdout",
     "output_type": "stream",
     "text": [
      "F-Score of virginica=  0.78\n"
     ]
    }
   ],
   "source": [
    "Fvi = 2*((RecVi*Pvi)/(Pvi+RecVi))\n",
    "print('F-Score of virginica= ',round(Fvi,2))"
   ]
  },
  {
   "cell_type": "markdown",
   "metadata": {},
   "source": [
    "# PRECISION @ \"10\""
   ]
  },
  {
   "cell_type": "code",
   "execution_count": 12,
   "metadata": {},
   "outputs": [
    {
     "data": {
      "text/html": [
       "<div>\n",
       "<style scoped>\n",
       "    .dataframe tbody tr th:only-of-type {\n",
       "        vertical-align: middle;\n",
       "    }\n",
       "\n",
       "    .dataframe tbody tr th {\n",
       "        vertical-align: top;\n",
       "    }\n",
       "\n",
       "    .dataframe thead th {\n",
       "        text-align: right;\n",
       "    }\n",
       "</style>\n",
       "<table border=\"1\" class=\"dataframe\">\n",
       "  <thead>\n",
       "    <tr style=\"text-align: right;\">\n",
       "      <th></th>\n",
       "      <th>retrieved</th>\n",
       "      <th>gold_standard</th>\n",
       "    </tr>\n",
       "  </thead>\n",
       "  <tbody>\n",
       "    <tr>\n",
       "      <th>0</th>\n",
       "      <td>setosa</td>\n",
       "      <td>setosa</td>\n",
       "    </tr>\n",
       "    <tr>\n",
       "      <th>1</th>\n",
       "      <td>setosa</td>\n",
       "      <td>setosa</td>\n",
       "    </tr>\n",
       "    <tr>\n",
       "      <th>2</th>\n",
       "      <td>setosa</td>\n",
       "      <td>setosa</td>\n",
       "    </tr>\n",
       "    <tr>\n",
       "      <th>3</th>\n",
       "      <td>versicolor</td>\n",
       "      <td>versicolor</td>\n",
       "    </tr>\n",
       "    <tr>\n",
       "      <th>4</th>\n",
       "      <td>setosa</td>\n",
       "      <td>setosa</td>\n",
       "    </tr>\n",
       "    <tr>\n",
       "      <th>5</th>\n",
       "      <td>versicolor</td>\n",
       "      <td>versicolor</td>\n",
       "    </tr>\n",
       "    <tr>\n",
       "      <th>6</th>\n",
       "      <td>virginica</td>\n",
       "      <td>versicolor</td>\n",
       "    </tr>\n",
       "    <tr>\n",
       "      <th>7</th>\n",
       "      <td>setosa</td>\n",
       "      <td>setosa</td>\n",
       "    </tr>\n",
       "    <tr>\n",
       "      <th>8</th>\n",
       "      <td>setosa</td>\n",
       "      <td>setosa</td>\n",
       "    </tr>\n",
       "    <tr>\n",
       "      <th>9</th>\n",
       "      <td>setosa</td>\n",
       "      <td>setosa</td>\n",
       "    </tr>\n",
       "  </tbody>\n",
       "</table>\n",
       "</div>"
      ],
      "text/plain": [
       "    retrieved gold_standard\n",
       "0      setosa        setosa\n",
       "1      setosa        setosa\n",
       "2      setosa        setosa\n",
       "3  versicolor    versicolor\n",
       "4      setosa        setosa\n",
       "5  versicolor    versicolor\n",
       "6   virginica    versicolor\n",
       "7      setosa        setosa\n",
       "8      setosa        setosa\n",
       "9      setosa        setosa"
      ]
     },
     "execution_count": 12,
     "metadata": {},
     "output_type": "execute_result"
    }
   ],
   "source": [
    "df2 = df[0:10]\n",
    "df2"
   ]
  },
  {
   "cell_type": "code",
   "execution_count": 13,
   "metadata": {},
   "outputs": [
    {
     "name": "stdout",
     "output_type": "stream",
     "text": [
      "Precision of setosa @ \"10\"=  1.0\n",
      "Precision of versicolor @ \"10\"=  1.0\n",
      "Precision of virginica @ \"10\"=  0.0\n"
     ]
    }
   ],
   "source": [
    "TP2s = df2.query(\"retrieved == 'setosa' & gold_standard == 'setosa'\").shape[0]\n",
    "FP2s = df2.query(\"retrieved == 'setosa' & gold_standard != 'setosa'\").shape[0]\n",
    "TP2v = df2.query(\"retrieved == 'versicolor' & gold_standard == 'versicolor'\").shape[0]\n",
    "FP2v = df2.query(\"retrieved == 'versicolor' & gold_standard != 'versicolor'\").shape[0]\n",
    "TP2vi = df2.query(\"retrieved == 'virginica' & gold_standard == 'virginica'\").shape[0]\n",
    "FP2vi = df2.query(\"retrieved == 'virginica' & gold_standard != 'virginica'\").shape[0]\n",
    "\n",
    "P2s = TP2s/(TP2s+FP2s)\n",
    "P2v = TP2v/(TP2v+FP2v)\n",
    "P2vi = TP2vi/(TP2vi+FP2vi)\n",
    "print('Precision of setosa @ \"10\"= ',P2s)\n",
    "print('Precision of versicolor @ \"10\"= ',P2v)\n",
    "print('Precision of virginica @ \"10\"= ',P2vi)"
   ]
  },
  {
   "cell_type": "markdown",
   "metadata": {},
   "source": [
    "# ACCURACY"
   ]
  },
  {
   "cell_type": "code",
   "execution_count": 18,
   "metadata": {},
   "outputs": [
    {
     "name": "stdout",
     "output_type": "stream",
     "text": [
      "True Positive:  19\n",
      "False Positive:  0\n",
      "False Negative:  0\n",
      "True Negative:  26\n"
     ]
    }
   ],
   "source": [
    "TNs = df.query(\"retrieved != 'setosa' & gold_standard!= 'setosa'\").shape[0]\n",
    "ACCs = (TPs+TNs)/(TPs+TNs+FPs+FNs)\n",
    "#print('Setosa accuracy= ', ACCs)\n",
    "print(\"True Positive: \",TPs )\n",
    "print(\"False Positive: \",FPs )\n",
    "print(\"False Negative: \",FNs )\n",
    "print(\"True Negative: \",TNs )"
   ]
  },
  {
   "cell_type": "markdown",
   "metadata": {},
   "source": [
    "# MEAN AVERAGE PRECISION"
   ]
  },
  {
   "cell_type": "code",
   "execution_count": 12,
   "metadata": {},
   "outputs": [
    {
     "name": "stdout",
     "output_type": "stream",
     "text": [
      "Mean Average Precision=  0.88\n"
     ]
    }
   ],
   "source": [
    "MAP = (Ps+Pv+Pvi)/3\n",
    "print('Mean Average Precision= ', round(MAP,2))"
   ]
  },
  {
   "cell_type": "code",
   "execution_count": 17,
   "metadata": {},
   "outputs": [
    {
     "name": "stdout",
     "output_type": "stream",
     "text": [
      "    retrieved gold_standard\n",
      "1      setosa        setosa\n",
      "2      setosa        setosa\n",
      "3  versicolor    versicolor\n",
      "4      setosa        setosa\n"
     ]
    }
   ],
   "source": [
    "new_arr = df[1:5]\n",
    "print(new_arr)"
   ]
  },
  {
   "cell_type": "code",
   "execution_count": 24,
   "metadata": {},
   "outputs": [
    {
     "name": "stdout",
     "output_type": "stream",
     "text": [
      "[['setosa' 'setosa']\n",
      " ['setosa' 'setosa']\n",
      " ['setosa' 'setosa']\n",
      " ['versicolor' 'versicolor']\n",
      " ['setosa' 'setosa']\n",
      " ['versicolor' 'versicolor']\n",
      " ['virginica' 'versicolor']\n",
      " ['setosa' 'setosa']\n",
      " ['setosa' 'setosa']\n",
      " ['setosa' 'setosa']\n",
      " ['virginica' 'virginica']\n",
      " ['versicolor' 'versicolor']\n",
      " ['versicolor' 'versicolor']\n",
      " ['setosa' 'setosa']\n",
      " ['virginica' 'virginica']\n",
      " ['versicolor' 'versicolor']\n",
      " ['setosa' 'setosa']\n",
      " ['versicolor' 'versicolor']\n",
      " ['setosa' 'setosa']\n",
      " ['setosa' 'setosa']\n",
      " ['setosa' 'setosa']\n",
      " ['virginica' 'virginica']\n",
      " ['virginica' 'virginica']\n",
      " ['versicolor' 'versicolor']\n",
      " ['versicolor' 'versicolor']\n",
      " ['setosa' 'setosa']\n",
      " ['virginica' 'virginica']\n",
      " ['versicolor' 'versicolor']\n",
      " ['versicolor' 'versicolor']\n",
      " ['virginica' 'virginica']\n",
      " ['setosa' 'setosa']\n",
      " ['versicolor' 'versicolor']\n",
      " ['setosa' 'setosa']\n",
      " ['virginica' 'versicolor']\n",
      " ['virginica' 'virginica']\n",
      " ['versicolor' 'versicolor']\n",
      " ['setosa' 'setosa']\n",
      " ['versicolor' 'versicolor']\n",
      " ['versicolor' 'versicolor']\n",
      " ['setosa' 'setosa']\n",
      " ['setosa' 'setosa']\n",
      " ['setosa' 'setosa']\n",
      " ['virginica' 'versicolor']\n",
      " ['versicolor' 'versicolor']\n",
      " ['virginica' 'versicolor']\n",
      " ['setosa' 'setosa']\n",
      " ['setosa' 'setosa']\n",
      " ['setosa' 'setosa']\n",
      " ['versicolor' 'versicolor']\n",
      " ['setosa' 'setosa']\n",
      " ['versicolor' 'versicolor']\n",
      " ['virginica' 'versicolor']\n",
      " ['setosa' 'setosa']\n",
      " ['setosa' 'setosa']\n",
      " ['setosa' 'setosa']]\n"
     ]
    }
   ],
   "source": [
    "new_arr2 = np.vstack((df, df2))\n",
    "\n",
    "# new_arr = np.hstack((a, b))\n",
    "\n",
    "# new_arr = numpy.stack((a, b))\n",
    "\n",
    "# new_arr = numpy.hstack((a, b))\n",
    "\n",
    "print(new_arr2)"
   ]
  },
  {
   "cell_type": "code",
   "execution_count": 4,
   "metadata": {},
   "outputs": [
    {
     "name": "stdout",
     "output_type": "stream",
     "text": [
      "[[ 0  1  2  3]\n",
      " [ 4  5  6  7]\n",
      " [ 8  9 10 11]]\n"
     ]
    }
   ],
   "source": [
    "import numpy\n",
    "a = numpy.arange(12).reshape(3,4)\n",
    "print(a)"
   ]
  }
 ],
 "metadata": {
  "kernelspec": {
   "display_name": "Python 3",
   "language": "python",
   "name": "python3"
  },
  "language_info": {
   "codemirror_mode": {
    "name": "ipython",
    "version": 3
   },
   "file_extension": ".py",
   "mimetype": "text/x-python",
   "name": "python",
   "nbconvert_exporter": "python",
   "pygments_lexer": "ipython3",
   "version": "3.8.5"
  }
 },
 "nbformat": 4,
 "nbformat_minor": 4
}
